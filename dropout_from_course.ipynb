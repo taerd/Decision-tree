{
  "nbformat": 4,
  "nbformat_minor": 5,
  "metadata": {
    "kernelspec": {
      "display_name": "Python 3 (ipykernel)",
      "language": "python",
      "name": "python3"
    },
    "language_info": {
      "codemirror_mode": {
        "name": "ipython",
        "version": 3
      },
      "file_extension": ".py",
      "mimetype": "text/x-python",
      "name": "python",
      "nbconvert_exporter": "python",
      "pygments_lexer": "ipython3",
      "version": "3.9.6"
    },
    "colab": {
      "provenance": []
    }
  },
  "cells": [
    {
      "cell_type": "code",
      "metadata": {
        "id": "64895467"
      },
      "source": [
        "import pandas as pd"
      ],
      "id": "64895467",
      "execution_count": null,
      "outputs": []
    },
    {
      "cell_type": "code",
      "metadata": {
        "id": "aaa90ac6"
      },
      "source": [
        "#events_data = pd.read_csv('https://stepik.org/media/attachments/course/4852/event_data_train.zip', compression='zip')\n",
        "#submission_data = pd.read_csv('https://stepik.org/media/attachments/course/4852/submissions_data_train.zip', compression='zip')\n",
        "events_data = pd.read_csv('https://stepik.org/media/attachments/course/4852/event_data_train.zip', compression='zip')\n",
        "submission_data = pd.read_csv('https://stepik.org/media/attachments/course/4852/submissions_data_train.zip', compression='zip')\n",
        "#bad data\n",
        "#events_data = pd.read_csv('C:\\Users\\taerd\\ML-python\\second module\\events_data_train.csv')\n",
        "#submission_data = pd.read_csv('C:\\Users\\taerd\\ML-python\\second module\\submission_data_train.csv')"
      ],
      "id": "aaa90ac6",
      "execution_count": null,
      "outputs": []
    },
    {
      "cell_type": "code",
      "metadata": {
        "id": "284fd86e",
        "colab": {
          "base_uri": "https://localhost:8080/",
          "height": 203
        },
        "outputId": "4e8e3cdb-7ccd-477b-f83f-4d5c59afdbf2"
      },
      "source": [
        "submission_data.head()"
      ],
      "id": "284fd86e",
      "execution_count": null,
      "outputs": [
        {
          "output_type": "execute_result",
          "data": {
            "text/html": [
              "<div>\n",
              "<style scoped>\n",
              "    .dataframe tbody tr th:only-of-type {\n",
              "        vertical-align: middle;\n",
              "    }\n",
              "\n",
              "    .dataframe tbody tr th {\n",
              "        vertical-align: top;\n",
              "    }\n",
              "\n",
              "    .dataframe thead th {\n",
              "        text-align: right;\n",
              "    }\n",
              "</style>\n",
              "<table border=\"1\" class=\"dataframe\">\n",
              "  <thead>\n",
              "    <tr style=\"text-align: right;\">\n",
              "      <th></th>\n",
              "      <th>step_id</th>\n",
              "      <th>timestamp</th>\n",
              "      <th>submission_status</th>\n",
              "      <th>user_id</th>\n",
              "    </tr>\n",
              "  </thead>\n",
              "  <tbody>\n",
              "    <tr>\n",
              "      <th>0</th>\n",
              "      <td>31971</td>\n",
              "      <td>1434349275</td>\n",
              "      <td>correct</td>\n",
              "      <td>15853</td>\n",
              "    </tr>\n",
              "    <tr>\n",
              "      <th>1</th>\n",
              "      <td>31972</td>\n",
              "      <td>1434348300</td>\n",
              "      <td>correct</td>\n",
              "      <td>15853</td>\n",
              "    </tr>\n",
              "    <tr>\n",
              "      <th>2</th>\n",
              "      <td>31972</td>\n",
              "      <td>1478852149</td>\n",
              "      <td>wrong</td>\n",
              "      <td>15853</td>\n",
              "    </tr>\n",
              "    <tr>\n",
              "      <th>3</th>\n",
              "      <td>31972</td>\n",
              "      <td>1478852164</td>\n",
              "      <td>correct</td>\n",
              "      <td>15853</td>\n",
              "    </tr>\n",
              "    <tr>\n",
              "      <th>4</th>\n",
              "      <td>31976</td>\n",
              "      <td>1434348123</td>\n",
              "      <td>wrong</td>\n",
              "      <td>15853</td>\n",
              "    </tr>\n",
              "  </tbody>\n",
              "</table>\n",
              "</div>"
            ],
            "text/plain": [
              "   step_id   timestamp submission_status  user_id\n",
              "0    31971  1434349275           correct    15853\n",
              "1    31972  1434348300           correct    15853\n",
              "2    31972  1478852149             wrong    15853\n",
              "3    31972  1478852164           correct    15853\n",
              "4    31976  1434348123             wrong    15853"
            ]
          },
          "metadata": {},
          "execution_count": 4
        }
      ]
    },
    {
      "cell_type": "code",
      "metadata": {
        "id": "b2849c49",
        "colab": {
          "base_uri": "https://localhost:8080/",
          "height": 203
        },
        "outputId": "c96b1ea6-8bb1-430b-d339-c5e7dc769afc"
      },
      "source": [
        "events_data.head()"
      ],
      "id": "b2849c49",
      "execution_count": null,
      "outputs": [
        {
          "output_type": "execute_result",
          "data": {
            "text/html": [
              "<div>\n",
              "<style scoped>\n",
              "    .dataframe tbody tr th:only-of-type {\n",
              "        vertical-align: middle;\n",
              "    }\n",
              "\n",
              "    .dataframe tbody tr th {\n",
              "        vertical-align: top;\n",
              "    }\n",
              "\n",
              "    .dataframe thead th {\n",
              "        text-align: right;\n",
              "    }\n",
              "</style>\n",
              "<table border=\"1\" class=\"dataframe\">\n",
              "  <thead>\n",
              "    <tr style=\"text-align: right;\">\n",
              "      <th></th>\n",
              "      <th>step_id</th>\n",
              "      <th>timestamp</th>\n",
              "      <th>action</th>\n",
              "      <th>user_id</th>\n",
              "    </tr>\n",
              "  </thead>\n",
              "  <tbody>\n",
              "    <tr>\n",
              "      <th>0</th>\n",
              "      <td>32815</td>\n",
              "      <td>1434340848</td>\n",
              "      <td>viewed</td>\n",
              "      <td>17632</td>\n",
              "    </tr>\n",
              "    <tr>\n",
              "      <th>1</th>\n",
              "      <td>32815</td>\n",
              "      <td>1434340848</td>\n",
              "      <td>passed</td>\n",
              "      <td>17632</td>\n",
              "    </tr>\n",
              "    <tr>\n",
              "      <th>2</th>\n",
              "      <td>32815</td>\n",
              "      <td>1434340848</td>\n",
              "      <td>discovered</td>\n",
              "      <td>17632</td>\n",
              "    </tr>\n",
              "    <tr>\n",
              "      <th>3</th>\n",
              "      <td>32811</td>\n",
              "      <td>1434340895</td>\n",
              "      <td>discovered</td>\n",
              "      <td>17632</td>\n",
              "    </tr>\n",
              "    <tr>\n",
              "      <th>4</th>\n",
              "      <td>32811</td>\n",
              "      <td>1434340895</td>\n",
              "      <td>viewed</td>\n",
              "      <td>17632</td>\n",
              "    </tr>\n",
              "  </tbody>\n",
              "</table>\n",
              "</div>"
            ],
            "text/plain": [
              "   step_id   timestamp      action  user_id\n",
              "0    32815  1434340848      viewed    17632\n",
              "1    32815  1434340848      passed    17632\n",
              "2    32815  1434340848  discovered    17632\n",
              "3    32811  1434340895  discovered    17632\n",
              "4    32811  1434340895      viewed    17632"
            ]
          },
          "metadata": {},
          "execution_count": 5
        }
      ]
    },
    {
      "cell_type": "code",
      "metadata": {
        "id": "f0d8c42d"
      },
      "source": [
        "# перевод timestamp to datetime\n",
        "events_data['date'] = pd.to_datetime(events_data.timestamp, unit = 's')\n",
        "events_data['day'] = events_data.date.dt.date\n",
        "\n",
        "submission_data['date'] = pd.to_datetime(submission_data.timestamp, unit = 's')\n",
        "submission_data['day'] = submission_data.date.dt.date"
      ],
      "id": "f0d8c42d",
      "execution_count": null,
      "outputs": []
    },
    {
      "cell_type": "code",
      "metadata": {
        "colab": {
          "base_uri": "https://localhost:8080/",
          "height": 203
        },
        "id": "bd911575",
        "outputId": "48468f81-881c-4300-f61b-36a746699918"
      },
      "source": [
        "events_data.head()"
      ],
      "id": "bd911575",
      "execution_count": null,
      "outputs": [
        {
          "output_type": "execute_result",
          "data": {
            "text/html": [
              "<div>\n",
              "<style scoped>\n",
              "    .dataframe tbody tr th:only-of-type {\n",
              "        vertical-align: middle;\n",
              "    }\n",
              "\n",
              "    .dataframe tbody tr th {\n",
              "        vertical-align: top;\n",
              "    }\n",
              "\n",
              "    .dataframe thead th {\n",
              "        text-align: right;\n",
              "    }\n",
              "</style>\n",
              "<table border=\"1\" class=\"dataframe\">\n",
              "  <thead>\n",
              "    <tr style=\"text-align: right;\">\n",
              "      <th></th>\n",
              "      <th>step_id</th>\n",
              "      <th>timestamp</th>\n",
              "      <th>action</th>\n",
              "      <th>user_id</th>\n",
              "      <th>date</th>\n",
              "      <th>day</th>\n",
              "    </tr>\n",
              "  </thead>\n",
              "  <tbody>\n",
              "    <tr>\n",
              "      <th>0</th>\n",
              "      <td>32815</td>\n",
              "      <td>1434340848</td>\n",
              "      <td>viewed</td>\n",
              "      <td>17632</td>\n",
              "      <td>2015-06-15 04:00:48</td>\n",
              "      <td>2015-06-15</td>\n",
              "    </tr>\n",
              "    <tr>\n",
              "      <th>1</th>\n",
              "      <td>32815</td>\n",
              "      <td>1434340848</td>\n",
              "      <td>passed</td>\n",
              "      <td>17632</td>\n",
              "      <td>2015-06-15 04:00:48</td>\n",
              "      <td>2015-06-15</td>\n",
              "    </tr>\n",
              "    <tr>\n",
              "      <th>2</th>\n",
              "      <td>32815</td>\n",
              "      <td>1434340848</td>\n",
              "      <td>discovered</td>\n",
              "      <td>17632</td>\n",
              "      <td>2015-06-15 04:00:48</td>\n",
              "      <td>2015-06-15</td>\n",
              "    </tr>\n",
              "    <tr>\n",
              "      <th>3</th>\n",
              "      <td>32811</td>\n",
              "      <td>1434340895</td>\n",
              "      <td>discovered</td>\n",
              "      <td>17632</td>\n",
              "      <td>2015-06-15 04:01:35</td>\n",
              "      <td>2015-06-15</td>\n",
              "    </tr>\n",
              "    <tr>\n",
              "      <th>4</th>\n",
              "      <td>32811</td>\n",
              "      <td>1434340895</td>\n",
              "      <td>viewed</td>\n",
              "      <td>17632</td>\n",
              "      <td>2015-06-15 04:01:35</td>\n",
              "      <td>2015-06-15</td>\n",
              "    </tr>\n",
              "  </tbody>\n",
              "</table>\n",
              "</div>"
            ],
            "text/plain": [
              "   step_id   timestamp      action  user_id                date         day\n",
              "0    32815  1434340848      viewed    17632 2015-06-15 04:00:48  2015-06-15\n",
              "1    32815  1434340848      passed    17632 2015-06-15 04:00:48  2015-06-15\n",
              "2    32815  1434340848  discovered    17632 2015-06-15 04:00:48  2015-06-15\n",
              "3    32811  1434340895  discovered    17632 2015-06-15 04:01:35  2015-06-15\n",
              "4    32811  1434340895      viewed    17632 2015-06-15 04:01:35  2015-06-15"
            ]
          },
          "metadata": {},
          "execution_count": 7
        }
      ]
    },
    {
      "cell_type": "code",
      "metadata": {
        "id": "d3a970a9"
      },
      "source": [
        "days=events_data.groupby('user_id').day.nunique()"
      ],
      "id": "d3a970a9",
      "execution_count": null,
      "outputs": []
    },
    {
      "cell_type": "code",
      "metadata": {
        "colab": {
          "base_uri": "https://localhost:8080/"
        },
        "id": "ad90e9fc",
        "outputId": "5b8c037d-d074-4f42-f196-acbdc2f6826d"
      },
      "source": [
        "days.nunique()"
      ],
      "id": "ad90e9fc",
      "execution_count": null,
      "outputs": [
        {
          "output_type": "execute_result",
          "data": {
            "text/plain": [
              "121"
            ]
          },
          "metadata": {},
          "execution_count": 9
        }
      ]
    },
    {
      "cell_type": "code",
      "metadata": {
        "colab": {
          "base_uri": "https://localhost:8080/",
          "height": 203
        },
        "id": "ec94b5e6",
        "outputId": "5731e727-07a2-4e2a-8ac2-d0ca1ffccf2e"
      },
      "source": [
        "submission_data.head()"
      ],
      "id": "ec94b5e6",
      "execution_count": null,
      "outputs": [
        {
          "output_type": "execute_result",
          "data": {
            "text/html": [
              "<div>\n",
              "<style scoped>\n",
              "    .dataframe tbody tr th:only-of-type {\n",
              "        vertical-align: middle;\n",
              "    }\n",
              "\n",
              "    .dataframe tbody tr th {\n",
              "        vertical-align: top;\n",
              "    }\n",
              "\n",
              "    .dataframe thead th {\n",
              "        text-align: right;\n",
              "    }\n",
              "</style>\n",
              "<table border=\"1\" class=\"dataframe\">\n",
              "  <thead>\n",
              "    <tr style=\"text-align: right;\">\n",
              "      <th></th>\n",
              "      <th>step_id</th>\n",
              "      <th>timestamp</th>\n",
              "      <th>submission_status</th>\n",
              "      <th>user_id</th>\n",
              "      <th>date</th>\n",
              "      <th>day</th>\n",
              "    </tr>\n",
              "  </thead>\n",
              "  <tbody>\n",
              "    <tr>\n",
              "      <th>0</th>\n",
              "      <td>31971</td>\n",
              "      <td>1434349275</td>\n",
              "      <td>correct</td>\n",
              "      <td>15853</td>\n",
              "      <td>2015-06-15 06:21:15</td>\n",
              "      <td>2015-06-15</td>\n",
              "    </tr>\n",
              "    <tr>\n",
              "      <th>1</th>\n",
              "      <td>31972</td>\n",
              "      <td>1434348300</td>\n",
              "      <td>correct</td>\n",
              "      <td>15853</td>\n",
              "      <td>2015-06-15 06:05:00</td>\n",
              "      <td>2015-06-15</td>\n",
              "    </tr>\n",
              "    <tr>\n",
              "      <th>2</th>\n",
              "      <td>31972</td>\n",
              "      <td>1478852149</td>\n",
              "      <td>wrong</td>\n",
              "      <td>15853</td>\n",
              "      <td>2016-11-11 08:15:49</td>\n",
              "      <td>2016-11-11</td>\n",
              "    </tr>\n",
              "    <tr>\n",
              "      <th>3</th>\n",
              "      <td>31972</td>\n",
              "      <td>1478852164</td>\n",
              "      <td>correct</td>\n",
              "      <td>15853</td>\n",
              "      <td>2016-11-11 08:16:04</td>\n",
              "      <td>2016-11-11</td>\n",
              "    </tr>\n",
              "    <tr>\n",
              "      <th>4</th>\n",
              "      <td>31976</td>\n",
              "      <td>1434348123</td>\n",
              "      <td>wrong</td>\n",
              "      <td>15853</td>\n",
              "      <td>2015-06-15 06:02:03</td>\n",
              "      <td>2015-06-15</td>\n",
              "    </tr>\n",
              "  </tbody>\n",
              "</table>\n",
              "</div>"
            ],
            "text/plain": [
              "   step_id   timestamp  ...                date         day\n",
              "0    31971  1434349275  ... 2015-06-15 06:21:15  2015-06-15\n",
              "1    31972  1434348300  ... 2015-06-15 06:05:00  2015-06-15\n",
              "2    31972  1478852149  ... 2016-11-11 08:15:49  2016-11-11\n",
              "3    31972  1478852164  ... 2016-11-11 08:16:04  2016-11-11\n",
              "4    31976  1434348123  ... 2015-06-15 06:02:03  2015-06-15\n",
              "\n",
              "[5 rows x 6 columns]"
            ]
          },
          "metadata": {},
          "execution_count": 10
        }
      ]
    },
    {
      "cell_type": "code",
      "metadata": {
        "id": "67d3608c"
      },
      "source": [
        "# последний заход в онлайн пользователя\n",
        "users_data = events_data.groupby('user_id', as_index = False)\\\n",
        "                    .agg({'timestamp' : 'max'})\\\n",
        "                    .rename({'timestamp' : 'last_timestamp'},axis =1)"
      ],
      "id": "67d3608c",
      "execution_count": null,
      "outputs": []
    },
    {
      "cell_type": "code",
      "metadata": {
        "colab": {
          "base_uri": "https://localhost:8080/",
          "height": 203
        },
        "id": "39795dd8",
        "outputId": "1d50df34-7cbb-49d3-99aa-f886d0a01d2e"
      },
      "source": [
        "users_data.head()"
      ],
      "id": "39795dd8",
      "execution_count": null,
      "outputs": [
        {
          "output_type": "execute_result",
          "data": {
            "text/html": [
              "<div>\n",
              "<style scoped>\n",
              "    .dataframe tbody tr th:only-of-type {\n",
              "        vertical-align: middle;\n",
              "    }\n",
              "\n",
              "    .dataframe tbody tr th {\n",
              "        vertical-align: top;\n",
              "    }\n",
              "\n",
              "    .dataframe thead th {\n",
              "        text-align: right;\n",
              "    }\n",
              "</style>\n",
              "<table border=\"1\" class=\"dataframe\">\n",
              "  <thead>\n",
              "    <tr style=\"text-align: right;\">\n",
              "      <th></th>\n",
              "      <th>user_id</th>\n",
              "      <th>last_timestamp</th>\n",
              "    </tr>\n",
              "  </thead>\n",
              "  <tbody>\n",
              "    <tr>\n",
              "      <th>0</th>\n",
              "      <td>1</td>\n",
              "      <td>1472827464</td>\n",
              "    </tr>\n",
              "    <tr>\n",
              "      <th>1</th>\n",
              "      <td>2</td>\n",
              "      <td>1519226966</td>\n",
              "    </tr>\n",
              "    <tr>\n",
              "      <th>2</th>\n",
              "      <td>3</td>\n",
              "      <td>1444581588</td>\n",
              "    </tr>\n",
              "    <tr>\n",
              "      <th>3</th>\n",
              "      <td>5</td>\n",
              "      <td>1499859939</td>\n",
              "    </tr>\n",
              "    <tr>\n",
              "      <th>4</th>\n",
              "      <td>7</td>\n",
              "      <td>1521634660</td>\n",
              "    </tr>\n",
              "  </tbody>\n",
              "</table>\n",
              "</div>"
            ],
            "text/plain": [
              "   user_id  last_timestamp\n",
              "0        1      1472827464\n",
              "1        2      1519226966\n",
              "2        3      1444581588\n",
              "3        5      1499859939\n",
              "4        7      1521634660"
            ]
          },
          "metadata": {},
          "execution_count": 12
        }
      ]
    },
    {
      "cell_type": "code",
      "metadata": {
        "id": "e8e5c7a5"
      },
      "source": [
        "now=users_data.last_timestamp.max()"
      ],
      "id": "e8e5c7a5",
      "execution_count": null,
      "outputs": []
    },
    {
      "cell_type": "code",
      "metadata": {
        "id": "2a7aad6c"
      },
      "source": [
        "# уникальный timestampy для пользователей\n",
        "users_timestamps = events_data[['user_id','day','timestamp']].drop_duplicates(subset = ['user_id','day']).groupby('user_id')['timestamp'].apply(list)"
      ],
      "id": "2a7aad6c",
      "execution_count": null,
      "outputs": []
    },
    {
      "cell_type": "code",
      "metadata": {
        "colab": {
          "base_uri": "https://localhost:8080/"
        },
        "id": "8K66RrxMKKof",
        "outputId": "24d9360d-d4f1-4244-cb0a-8ffffc5fbc11"
      },
      "source": [
        "users_timestamps"
      ],
      "id": "8K66RrxMKKof",
      "execution_count": null,
      "outputs": [
        {
          "output_type": "execute_result",
          "data": {
            "text/plain": [
              "user_id\n",
              "1                                             [1472827464]\n",
              "2                                 [1514383364, 1519226966]\n",
              "3        [1434358476, 1441257725, 1441440209, 144153391...\n",
              "5                                 [1466156809, 1499859621]\n",
              "7                                             [1521634660]\n",
              "                               ...                        \n",
              "26790     [1451484016, 1451722241, 1452616205, 1517495853]\n",
              "26793                                         [1510225031]\n",
              "26794    [1495287049, 1495373177, 1495509936, 149560483...\n",
              "26797                             [1508425316, 1509993306]\n",
              "26798                                         [1520975763]\n",
              "Name: timestamp, Length: 19234, dtype: object"
            ]
          },
          "metadata": {},
          "execution_count": 15
        }
      ]
    },
    {
      "cell_type": "code",
      "metadata": {
        "colab": {
          "base_uri": "https://localhost:8080/"
        },
        "id": "48286f85",
        "outputId": "fde097d4-f203-48a4-af25-718667141667"
      },
      "source": [
        "import numpy as np\n",
        "gap_data = users_timestamps.apply(np.diff).values\n",
        "gap_data"
      ],
      "id": "48286f85",
      "execution_count": null,
      "outputs": [
        {
          "output_type": "execute_result",
          "data": {
            "text/plain": [
              "array([array([], dtype=int64), array([4843602]),\n",
              "       array([6899249,  182484,   93710, 2768870,  171400,   78712]), ...,\n",
              "       array([   86128,   136759,    94899,  1422583, 14347289,   505061,\n",
              "          98252,    57019]),\n",
              "       array([1567990]), array([], dtype=int64)], dtype=object)"
            ]
          },
          "metadata": {},
          "execution_count": 16
        }
      ]
    },
    {
      "cell_type": "code",
      "metadata": {
        "id": "58e380b4"
      },
      "source": [
        "# перевод array arrayev в один array\n",
        "gap_data=pd.Series(np.concatenate(gap_data,axis=0))\n",
        "#делим разницу между заходами в timestamp на дни\n",
        "gap_data=gap_data/(24*60*60)"
      ],
      "id": "58e380b4",
      "execution_count": null,
      "outputs": []
    },
    {
      "cell_type": "code",
      "metadata": {
        "colab": {
          "base_uri": "https://localhost:8080/"
        },
        "id": "8031eb72",
        "outputId": "40dad676-1d2d-4750-9c26-199d44e680f7"
      },
      "source": [
        "gap_data"
      ],
      "id": "8031eb72",
      "execution_count": null,
      "outputs": [
        {
          "output_type": "execute_result",
          "data": {
            "text/plain": [
              "0         56.060208\n",
              "1         79.852419\n",
              "2          2.112083\n",
              "3          1.084606\n",
              "4         32.047106\n",
              "            ...    \n",
              "97867    166.056586\n",
              "97868      5.845613\n",
              "97869      1.137176\n",
              "97870      0.659942\n",
              "97871     18.148032\n",
              "Length: 97872, dtype: float64"
            ]
          },
          "metadata": {},
          "execution_count": 18
        }
      ]
    },
    {
      "cell_type": "code",
      "metadata": {
        "colab": {
          "base_uri": "https://localhost:8080/"
        },
        "id": "7e3e1764",
        "outputId": "d78ec819-e2b4-490e-951f-88e1b370482b"
      },
      "source": [
        "gap_data.quantile(0.9)"
      ],
      "id": "7e3e1764",
      "execution_count": null,
      "outputs": [
        {
          "output_type": "execute_result",
          "data": {
            "text/plain": [
              "18.325995370370403"
            ]
          },
          "metadata": {},
          "execution_count": 16
        }
      ]
    },
    {
      "cell_type": "code",
      "metadata": {
        "colab": {
          "base_uri": "https://localhost:8080/"
        },
        "id": "f7a105df",
        "outputId": "20c40666-8c8d-419c-ecb8-7565c6ea5d03"
      },
      "source": [
        "gap_data.quantile(0.95)"
      ],
      "id": "f7a105df",
      "execution_count": null,
      "outputs": [
        {
          "output_type": "execute_result",
          "data": {
            "text/plain": [
              "59.760440972222156"
            ]
          },
          "metadata": {},
          "execution_count": 17
        }
      ]
    },
    {
      "cell_type": "code",
      "metadata": {
        "colab": {
          "base_uri": "https://localhost:8080/",
          "height": 282
        },
        "id": "c9918757",
        "outputId": "c3c88fef-7581-428b-dd47-92a3f51a8423"
      },
      "source": [
        "gap_data[gap_data<200].hist()"
      ],
      "id": "c9918757",
      "execution_count": null,
      "outputs": [
        {
          "output_type": "execute_result",
          "data": {
            "text/plain": [
              "<matplotlib.axes._subplots.AxesSubplot at 0x7f87962fe550>"
            ]
          },
          "metadata": {},
          "execution_count": 18
        },
        {
          "output_type": "display_data",
          "data": {
            "image/png": "[encoded data removed]",
            "text/plain": [
              "<Figure size 432x288 with 1 Axes>"
            ]
          },
          "metadata": {
            "needs_background": "light"
          }
        }
      ]
    },
    {
      "cell_type": "code",
      "metadata": {
        "id": "d3218e29"
      },
      "source": [
        "# месячный переод для дропаут с курса\n",
        "drop_out_threasold = 60*60*24*30"
      ],
      "id": "d3218e29",
      "execution_count": null,
      "outputs": []
    },
    {
      "cell_type": "code",
      "metadata": {
        "id": "55bbd1e7"
      },
      "source": [
        "users_data['is_gone_user'] = (now - users_data.last_timestamp) > drop_out_threasold"
      ],
      "id": "55bbd1e7",
      "execution_count": null,
      "outputs": []
    },
    {
      "cell_type": "code",
      "metadata": {
        "colab": {
          "base_uri": "https://localhost:8080/",
          "height": 206
        },
        "id": "84717d62",
        "outputId": "7b0cdcf6-55bf-46cd-d689-12c405bf25c1"
      },
      "source": [
        "users_data.head()"
      ],
      "id": "84717d62",
      "execution_count": null,
      "outputs": [
        {
          "output_type": "execute_result",
          "data": {
            "text/html": [
              "<div>\n",
              "<style scoped>\n",
              "    .dataframe tbody tr th:only-of-type {\n",
              "        vertical-align: middle;\n",
              "    }\n",
              "\n",
              "    .dataframe tbody tr th {\n",
              "        vertical-align: top;\n",
              "    }\n",
              "\n",
              "    .dataframe thead th {\n",
              "        text-align: right;\n",
              "    }\n",
              "</style>\n",
              "<table border=\"1\" class=\"dataframe\">\n",
              "  <thead>\n",
              "    <tr style=\"text-align: right;\">\n",
              "      <th></th>\n",
              "      <th>user_id</th>\n",
              "      <th>last_timestamp</th>\n",
              "      <th>is_gone_user</th>\n",
              "    </tr>\n",
              "  </thead>\n",
              "  <tbody>\n",
              "    <tr>\n",
              "      <th>0</th>\n",
              "      <td>1</td>\n",
              "      <td>1472827464</td>\n",
              "      <td>True</td>\n",
              "    </tr>\n",
              "    <tr>\n",
              "      <th>1</th>\n",
              "      <td>2</td>\n",
              "      <td>1519226966</td>\n",
              "      <td>True</td>\n",
              "    </tr>\n",
              "    <tr>\n",
              "      <th>2</th>\n",
              "      <td>3</td>\n",
              "      <td>1444581588</td>\n",
              "      <td>True</td>\n",
              "    </tr>\n",
              "    <tr>\n",
              "      <th>3</th>\n",
              "      <td>5</td>\n",
              "      <td>1499859939</td>\n",
              "      <td>True</td>\n",
              "    </tr>\n",
              "    <tr>\n",
              "      <th>4</th>\n",
              "      <td>7</td>\n",
              "      <td>1521634660</td>\n",
              "      <td>True</td>\n",
              "    </tr>\n",
              "  </tbody>\n",
              "</table>\n",
              "</div>"
            ],
            "text/plain": [
              "   user_id  last_timestamp  is_gone_user\n",
              "0        1      1472827464          True\n",
              "1        2      1519226966          True\n",
              "2        3      1444581588          True\n",
              "3        5      1499859939          True\n",
              "4        7      1521634660          True"
            ]
          },
          "metadata": {},
          "execution_count": 21
        }
      ]
    },
    {
      "cell_type": "code",
      "metadata": {
        "id": "147b9486"
      },
      "source": [
        "# таблица из количества верных\\неверных ответов\n",
        "users_scores = submission_data.pivot_table(index = 'user_id', \\\n",
        "                                          columns = 'submission_status', \\\n",
        "                                          values = 'step_id', \\\n",
        "                                           aggfunc = 'count',\\\n",
        "                                          fill_value = 0)\\\n",
        "                                          .reset_index()"
      ],
      "id": "147b9486",
      "execution_count": null,
      "outputs": []
    },
    {
      "cell_type": "code",
      "metadata": {
        "colab": {
          "base_uri": "https://localhost:8080/",
          "height": 363
        },
        "id": "1b554163",
        "outputId": "5ae795e5-cb2e-4d8c-a989-445be0f18e22"
      },
      "source": [
        "users_scores.head(10)"
      ],
      "id": "1b554163",
      "execution_count": null,
      "outputs": [
        {
          "output_type": "execute_result",
          "data": {
            "text/html": [
              "<div>\n",
              "<style scoped>\n",
              "    .dataframe tbody tr th:only-of-type {\n",
              "        vertical-align: middle;\n",
              "    }\n",
              "\n",
              "    .dataframe tbody tr th {\n",
              "        vertical-align: top;\n",
              "    }\n",
              "\n",
              "    .dataframe thead th {\n",
              "        text-align: right;\n",
              "    }\n",
              "</style>\n",
              "<table border=\"1\" class=\"dataframe\">\n",
              "  <thead>\n",
              "    <tr style=\"text-align: right;\">\n",
              "      <th>submission_status</th>\n",
              "      <th>user_id</th>\n",
              "      <th>correct</th>\n",
              "      <th>wrong</th>\n",
              "    </tr>\n",
              "  </thead>\n",
              "  <tbody>\n",
              "    <tr>\n",
              "      <th>0</th>\n",
              "      <td>2</td>\n",
              "      <td>2</td>\n",
              "      <td>0</td>\n",
              "    </tr>\n",
              "    <tr>\n",
              "      <th>1</th>\n",
              "      <td>3</td>\n",
              "      <td>29</td>\n",
              "      <td>23</td>\n",
              "    </tr>\n",
              "    <tr>\n",
              "      <th>2</th>\n",
              "      <td>5</td>\n",
              "      <td>2</td>\n",
              "      <td>2</td>\n",
              "    </tr>\n",
              "    <tr>\n",
              "      <th>3</th>\n",
              "      <td>8</td>\n",
              "      <td>9</td>\n",
              "      <td>21</td>\n",
              "    </tr>\n",
              "    <tr>\n",
              "      <th>4</th>\n",
              "      <td>14</td>\n",
              "      <td>0</td>\n",
              "      <td>1</td>\n",
              "    </tr>\n",
              "    <tr>\n",
              "      <th>5</th>\n",
              "      <td>16</td>\n",
              "      <td>77</td>\n",
              "      <td>106</td>\n",
              "    </tr>\n",
              "    <tr>\n",
              "      <th>6</th>\n",
              "      <td>17</td>\n",
              "      <td>0</td>\n",
              "      <td>2</td>\n",
              "    </tr>\n",
              "    <tr>\n",
              "      <th>7</th>\n",
              "      <td>22</td>\n",
              "      <td>76</td>\n",
              "      <td>47</td>\n",
              "    </tr>\n",
              "    <tr>\n",
              "      <th>8</th>\n",
              "      <td>25</td>\n",
              "      <td>1</td>\n",
              "      <td>4</td>\n",
              "    </tr>\n",
              "    <tr>\n",
              "      <th>9</th>\n",
              "      <td>26</td>\n",
              "      <td>7</td>\n",
              "      <td>16</td>\n",
              "    </tr>\n",
              "  </tbody>\n",
              "</table>\n",
              "</div>"
            ],
            "text/plain": [
              "submission_status  user_id  correct  wrong\n",
              "0                        2        2      0\n",
              "1                        3       29     23\n",
              "2                        5        2      2\n",
              "3                        8        9     21\n",
              "4                       14        0      1\n",
              "5                       16       77    106\n",
              "6                       17        0      2\n",
              "7                       22       76     47\n",
              "8                       25        1      4\n",
              "9                       26        7     16"
            ]
          },
          "metadata": {},
          "execution_count": 23
        }
      ]
    },
    {
      "cell_type": "code",
      "metadata": {
        "id": "6bebee35"
      },
      "source": [
        "# объединение таблиц без потери (пустые результаты заполняются NaN)\n",
        "users_data = users_data.merge(users_scores , on = 'user_id', how = 'outer')"
      ],
      "id": "6bebee35",
      "execution_count": null,
      "outputs": []
    },
    {
      "cell_type": "code",
      "metadata": {
        "colab": {
          "base_uri": "https://localhost:8080/",
          "height": 206
        },
        "id": "1907d16c",
        "outputId": "6ec5ede9-f5b2-4594-9a2f-0aa1bd58e6af"
      },
      "source": [
        "users_data.head()"
      ],
      "id": "1907d16c",
      "execution_count": null,
      "outputs": [
        {
          "output_type": "execute_result",
          "data": {
            "text/html": [
              "<div>\n",
              "<style scoped>\n",
              "    .dataframe tbody tr th:only-of-type {\n",
              "        vertical-align: middle;\n",
              "    }\n",
              "\n",
              "    .dataframe tbody tr th {\n",
              "        vertical-align: top;\n",
              "    }\n",
              "\n",
              "    .dataframe thead th {\n",
              "        text-align: right;\n",
              "    }\n",
              "</style>\n",
              "<table border=\"1\" class=\"dataframe\">\n",
              "  <thead>\n",
              "    <tr style=\"text-align: right;\">\n",
              "      <th></th>\n",
              "      <th>user_id</th>\n",
              "      <th>last_timestamp</th>\n",
              "      <th>is_gone_user</th>\n",
              "      <th>correct</th>\n",
              "      <th>wrong</th>\n",
              "    </tr>\n",
              "  </thead>\n",
              "  <tbody>\n",
              "    <tr>\n",
              "      <th>0</th>\n",
              "      <td>1</td>\n",
              "      <td>1472827464</td>\n",
              "      <td>True</td>\n",
              "      <td>NaN</td>\n",
              "      <td>NaN</td>\n",
              "    </tr>\n",
              "    <tr>\n",
              "      <th>1</th>\n",
              "      <td>2</td>\n",
              "      <td>1519226966</td>\n",
              "      <td>True</td>\n",
              "      <td>2.0</td>\n",
              "      <td>0.0</td>\n",
              "    </tr>\n",
              "    <tr>\n",
              "      <th>2</th>\n",
              "      <td>3</td>\n",
              "      <td>1444581588</td>\n",
              "      <td>True</td>\n",
              "      <td>29.0</td>\n",
              "      <td>23.0</td>\n",
              "    </tr>\n",
              "    <tr>\n",
              "      <th>3</th>\n",
              "      <td>5</td>\n",
              "      <td>1499859939</td>\n",
              "      <td>True</td>\n",
              "      <td>2.0</td>\n",
              "      <td>2.0</td>\n",
              "    </tr>\n",
              "    <tr>\n",
              "      <th>4</th>\n",
              "      <td>7</td>\n",
              "      <td>1521634660</td>\n",
              "      <td>True</td>\n",
              "      <td>NaN</td>\n",
              "      <td>NaN</td>\n",
              "    </tr>\n",
              "  </tbody>\n",
              "</table>\n",
              "</div>"
            ],
            "text/plain": [
              "   user_id  last_timestamp  is_gone_user  correct  wrong\n",
              "0        1      1472827464          True      NaN    NaN\n",
              "1        2      1519226966          True      2.0    0.0\n",
              "2        3      1444581588          True     29.0   23.0\n",
              "3        5      1499859939          True      2.0    2.0\n",
              "4        7      1521634660          True      NaN    NaN"
            ]
          },
          "metadata": {},
          "execution_count": 25
        }
      ]
    },
    {
      "cell_type": "code",
      "metadata": {
        "id": "32fac87d"
      },
      "source": [
        "users_data = users_data.fillna(0)"
      ],
      "id": "32fac87d",
      "execution_count": null,
      "outputs": []
    },
    {
      "cell_type": "code",
      "metadata": {
        "colab": {
          "base_uri": "https://localhost:8080/",
          "height": 206
        },
        "id": "6041b2fa",
        "outputId": "4ab845e6-7c98-4882-9a2f-ec2c25d8b4d1"
      },
      "source": [
        "users_data.head()"
      ],
      "id": "6041b2fa",
      "execution_count": null,
      "outputs": [
        {
          "output_type": "execute_result",
          "data": {
            "text/html": [
              "<div>\n",
              "<style scoped>\n",
              "    .dataframe tbody tr th:only-of-type {\n",
              "        vertical-align: middle;\n",
              "    }\n",
              "\n",
              "    .dataframe tbody tr th {\n",
              "        vertical-align: top;\n",
              "    }\n",
              "\n",
              "    .dataframe thead th {\n",
              "        text-align: right;\n",
              "    }\n",
              "</style>\n",
              "<table border=\"1\" class=\"dataframe\">\n",
              "  <thead>\n",
              "    <tr style=\"text-align: right;\">\n",
              "      <th></th>\n",
              "      <th>user_id</th>\n",
              "      <th>last_timestamp</th>\n",
              "      <th>is_gone_user</th>\n",
              "      <th>correct</th>\n",
              "      <th>wrong</th>\n",
              "    </tr>\n",
              "  </thead>\n",
              "  <tbody>\n",
              "    <tr>\n",
              "      <th>0</th>\n",
              "      <td>1</td>\n",
              "      <td>1472827464</td>\n",
              "      <td>True</td>\n",
              "      <td>0.0</td>\n",
              "      <td>0.0</td>\n",
              "    </tr>\n",
              "    <tr>\n",
              "      <th>1</th>\n",
              "      <td>2</td>\n",
              "      <td>1519226966</td>\n",
              "      <td>True</td>\n",
              "      <td>2.0</td>\n",
              "      <td>0.0</td>\n",
              "    </tr>\n",
              "    <tr>\n",
              "      <th>2</th>\n",
              "      <td>3</td>\n",
              "      <td>1444581588</td>\n",
              "      <td>True</td>\n",
              "      <td>29.0</td>\n",
              "      <td>23.0</td>\n",
              "    </tr>\n",
              "    <tr>\n",
              "      <th>3</th>\n",
              "      <td>5</td>\n",
              "      <td>1499859939</td>\n",
              "      <td>True</td>\n",
              "      <td>2.0</td>\n",
              "      <td>2.0</td>\n",
              "    </tr>\n",
              "    <tr>\n",
              "      <th>4</th>\n",
              "      <td>7</td>\n",
              "      <td>1521634660</td>\n",
              "      <td>True</td>\n",
              "      <td>0.0</td>\n",
              "      <td>0.0</td>\n",
              "    </tr>\n",
              "  </tbody>\n",
              "</table>\n",
              "</div>"
            ],
            "text/plain": [
              "   user_id  last_timestamp  is_gone_user  correct  wrong\n",
              "0        1      1472827464          True      0.0    0.0\n",
              "1        2      1519226966          True      2.0    0.0\n",
              "2        3      1444581588          True     29.0   23.0\n",
              "3        5      1499859939          True      2.0    2.0\n",
              "4        7      1521634660          True      0.0    0.0"
            ]
          },
          "metadata": {},
          "execution_count": 27
        }
      ]
    },
    {
      "cell_type": "code",
      "metadata": {
        "id": "530fb344"
      },
      "source": [
        "# узнаем сколько попыток было на каждый action\n",
        "users_invent_data = events_data.pivot_table(index='user_id',\\\n",
        "                                           columns = 'action', \\\n",
        "                                           values = 'step_id',\\\n",
        "                                           aggfunc = 'count',\\\n",
        "                                           fill_value = 0).reset_index()"
      ],
      "id": "530fb344",
      "execution_count": null,
      "outputs": []
    },
    {
      "cell_type": "code",
      "metadata": {
        "colab": {
          "base_uri": "https://localhost:8080/",
          "height": 206
        },
        "id": "7e329541",
        "outputId": "543ea33a-6782-47cc-9f41-bae55fd12251"
      },
      "source": [
        "users_invent_data.head()"
      ],
      "id": "7e329541",
      "execution_count": null,
      "outputs": [
        {
          "output_type": "execute_result",
          "data": {
            "text/html": [
              "<div>\n",
              "<style scoped>\n",
              "    .dataframe tbody tr th:only-of-type {\n",
              "        vertical-align: middle;\n",
              "    }\n",
              "\n",
              "    .dataframe tbody tr th {\n",
              "        vertical-align: top;\n",
              "    }\n",
              "\n",
              "    .dataframe thead th {\n",
              "        text-align: right;\n",
              "    }\n",
              "</style>\n",
              "<table border=\"1\" class=\"dataframe\">\n",
              "  <thead>\n",
              "    <tr style=\"text-align: right;\">\n",
              "      <th>action</th>\n",
              "      <th>user_id</th>\n",
              "      <th>discovered</th>\n",
              "      <th>passed</th>\n",
              "      <th>started_attempt</th>\n",
              "      <th>viewed</th>\n",
              "    </tr>\n",
              "  </thead>\n",
              "  <tbody>\n",
              "    <tr>\n",
              "      <th>0</th>\n",
              "      <td>1</td>\n",
              "      <td>1</td>\n",
              "      <td>0</td>\n",
              "      <td>0</td>\n",
              "      <td>1</td>\n",
              "    </tr>\n",
              "    <tr>\n",
              "      <th>1</th>\n",
              "      <td>2</td>\n",
              "      <td>9</td>\n",
              "      <td>9</td>\n",
              "      <td>2</td>\n",
              "      <td>10</td>\n",
              "    </tr>\n",
              "    <tr>\n",
              "      <th>2</th>\n",
              "      <td>3</td>\n",
              "      <td>91</td>\n",
              "      <td>87</td>\n",
              "      <td>30</td>\n",
              "      <td>192</td>\n",
              "    </tr>\n",
              "    <tr>\n",
              "      <th>3</th>\n",
              "      <td>5</td>\n",
              "      <td>11</td>\n",
              "      <td>11</td>\n",
              "      <td>4</td>\n",
              "      <td>12</td>\n",
              "    </tr>\n",
              "    <tr>\n",
              "      <th>4</th>\n",
              "      <td>7</td>\n",
              "      <td>1</td>\n",
              "      <td>1</td>\n",
              "      <td>0</td>\n",
              "      <td>1</td>\n",
              "    </tr>\n",
              "  </tbody>\n",
              "</table>\n",
              "</div>"
            ],
            "text/plain": [
              "action  user_id  discovered  passed  started_attempt  viewed\n",
              "0             1           1       0                0       1\n",
              "1             2           9       9                2      10\n",
              "2             3          91      87               30     192\n",
              "3             5          11      11                4      12\n",
              "4             7           1       1                0       1"
            ]
          },
          "metadata": {},
          "execution_count": 29
        }
      ]
    },
    {
      "cell_type": "code",
      "metadata": {
        "id": "55125066"
      },
      "source": [
        "users_data = users_data.merge(users_invent_data, on = 'user_id' , how = 'outer')"
      ],
      "id": "55125066",
      "execution_count": null,
      "outputs": []
    },
    {
      "cell_type": "code",
      "metadata": {
        "colab": {
          "base_uri": "https://localhost:8080/",
          "height": 206
        },
        "id": "5be54294",
        "outputId": "2f00b216-8a31-46b4-83b2-a338a8c9c88a"
      },
      "source": [
        "users_data.head()"
      ],
      "id": "5be54294",
      "execution_count": null,
      "outputs": [
        {
          "output_type": "execute_result",
          "data": {
            "text/html": [
              "<div>\n",
              "<style scoped>\n",
              "    .dataframe tbody tr th:only-of-type {\n",
              "        vertical-align: middle;\n",
              "    }\n",
              "\n",
              "    .dataframe tbody tr th {\n",
              "        vertical-align: top;\n",
              "    }\n",
              "\n",
              "    .dataframe thead th {\n",
              "        text-align: right;\n",
              "    }\n",
              "</style>\n",
              "<table border=\"1\" class=\"dataframe\">\n",
              "  <thead>\n",
              "    <tr style=\"text-align: right;\">\n",
              "      <th></th>\n",
              "      <th>user_id</th>\n",
              "      <th>last_timestamp</th>\n",
              "      <th>is_gone_user</th>\n",
              "      <th>correct</th>\n",
              "      <th>wrong</th>\n",
              "      <th>discovered</th>\n",
              "      <th>passed</th>\n",
              "      <th>started_attempt</th>\n",
              "      <th>viewed</th>\n",
              "    </tr>\n",
              "  </thead>\n",
              "  <tbody>\n",
              "    <tr>\n",
              "      <th>0</th>\n",
              "      <td>1</td>\n",
              "      <td>1472827464</td>\n",
              "      <td>True</td>\n",
              "      <td>0.0</td>\n",
              "      <td>0.0</td>\n",
              "      <td>1</td>\n",
              "      <td>0</td>\n",
              "      <td>0</td>\n",
              "      <td>1</td>\n",
              "    </tr>\n",
              "    <tr>\n",
              "      <th>1</th>\n",
              "      <td>2</td>\n",
              "      <td>1519226966</td>\n",
              "      <td>True</td>\n",
              "      <td>2.0</td>\n",
              "      <td>0.0</td>\n",
              "      <td>9</td>\n",
              "      <td>9</td>\n",
              "      <td>2</td>\n",
              "      <td>10</td>\n",
              "    </tr>\n",
              "    <tr>\n",
              "      <th>2</th>\n",
              "      <td>3</td>\n",
              "      <td>1444581588</td>\n",
              "      <td>True</td>\n",
              "      <td>29.0</td>\n",
              "      <td>23.0</td>\n",
              "      <td>91</td>\n",
              "      <td>87</td>\n",
              "      <td>30</td>\n",
              "      <td>192</td>\n",
              "    </tr>\n",
              "    <tr>\n",
              "      <th>3</th>\n",
              "      <td>5</td>\n",
              "      <td>1499859939</td>\n",
              "      <td>True</td>\n",
              "      <td>2.0</td>\n",
              "      <td>2.0</td>\n",
              "      <td>11</td>\n",
              "      <td>11</td>\n",
              "      <td>4</td>\n",
              "      <td>12</td>\n",
              "    </tr>\n",
              "    <tr>\n",
              "      <th>4</th>\n",
              "      <td>7</td>\n",
              "      <td>1521634660</td>\n",
              "      <td>True</td>\n",
              "      <td>0.0</td>\n",
              "      <td>0.0</td>\n",
              "      <td>1</td>\n",
              "      <td>1</td>\n",
              "      <td>0</td>\n",
              "      <td>1</td>\n",
              "    </tr>\n",
              "  </tbody>\n",
              "</table>\n",
              "</div>"
            ],
            "text/plain": [
              "   user_id  last_timestamp  is_gone_user  ...  passed  started_attempt  viewed\n",
              "0        1      1472827464          True  ...       0                0       1\n",
              "1        2      1519226966          True  ...       9                2      10\n",
              "2        3      1444581588          True  ...      87               30     192\n",
              "3        5      1499859939          True  ...      11                4      12\n",
              "4        7      1521634660          True  ...       1                0       1\n",
              "\n",
              "[5 rows x 9 columns]"
            ]
          },
          "metadata": {},
          "execution_count": 31
        }
      ]
    },
    {
      "cell_type": "code",
      "metadata": {
        "id": "2bb28e82"
      },
      "source": [
        "# количетсво уникальных дней пользователя\n",
        "users_days = events_data.groupby('user_id').day.nunique()"
      ],
      "id": "2bb28e82",
      "execution_count": null,
      "outputs": []
    },
    {
      "cell_type": "code",
      "metadata": {
        "colab": {
          "base_uri": "https://localhost:8080/"
        },
        "id": "2418719d",
        "outputId": "063f0e94-7800-4531-d3de-a294a8cbafe4"
      },
      "source": [
        "users_days.head()"
      ],
      "id": "2418719d",
      "execution_count": null,
      "outputs": [
        {
          "output_type": "execute_result",
          "data": {
            "text/plain": [
              "user_id\n",
              "1    1\n",
              "2    2\n",
              "3    7\n",
              "5    2\n",
              "7    1\n",
              "Name: day, dtype: int64"
            ]
          },
          "metadata": {},
          "execution_count": 33
        }
      ]
    },
    {
      "cell_type": "code",
      "metadata": {
        "colab": {
          "base_uri": "https://localhost:8080/",
          "height": 423
        },
        "id": "d5d0e0dd",
        "outputId": "d129d851-bdd8-4d3b-86e3-60bc7691d124"
      },
      "source": [
        "users_days.to_frame().reset_index()"
      ],
      "id": "d5d0e0dd",
      "execution_count": null,
      "outputs": [
        {
          "output_type": "execute_result",
          "data": {
            "text/html": [
              "<div>\n",
              "<style scoped>\n",
              "    .dataframe tbody tr th:only-of-type {\n",
              "        vertical-align: middle;\n",
              "    }\n",
              "\n",
              "    .dataframe tbody tr th {\n",
              "        vertical-align: top;\n",
              "    }\n",
              "\n",
              "    .dataframe thead th {\n",
              "        text-align: right;\n",
              "    }\n",
              "</style>\n",
              "<table border=\"1\" class=\"dataframe\">\n",
              "  <thead>\n",
              "    <tr style=\"text-align: right;\">\n",
              "      <th></th>\n",
              "      <th>user_id</th>\n",
              "      <th>day</th>\n",
              "    </tr>\n",
              "  </thead>\n",
              "  <tbody>\n",
              "    <tr>\n",
              "      <th>0</th>\n",
              "      <td>1</td>\n",
              "      <td>1</td>\n",
              "    </tr>\n",
              "    <tr>\n",
              "      <th>1</th>\n",
              "      <td>2</td>\n",
              "      <td>2</td>\n",
              "    </tr>\n",
              "    <tr>\n",
              "      <th>2</th>\n",
              "      <td>3</td>\n",
              "      <td>7</td>\n",
              "    </tr>\n",
              "    <tr>\n",
              "      <th>3</th>\n",
              "      <td>5</td>\n",
              "      <td>2</td>\n",
              "    </tr>\n",
              "    <tr>\n",
              "      <th>4</th>\n",
              "      <td>7</td>\n",
              "      <td>1</td>\n",
              "    </tr>\n",
              "    <tr>\n",
              "      <th>...</th>\n",
              "      <td>...</td>\n",
              "      <td>...</td>\n",
              "    </tr>\n",
              "    <tr>\n",
              "      <th>19229</th>\n",
              "      <td>26790</td>\n",
              "      <td>4</td>\n",
              "    </tr>\n",
              "    <tr>\n",
              "      <th>19230</th>\n",
              "      <td>26793</td>\n",
              "      <td>1</td>\n",
              "    </tr>\n",
              "    <tr>\n",
              "      <th>19231</th>\n",
              "      <td>26794</td>\n",
              "      <td>9</td>\n",
              "    </tr>\n",
              "    <tr>\n",
              "      <th>19232</th>\n",
              "      <td>26797</td>\n",
              "      <td>2</td>\n",
              "    </tr>\n",
              "    <tr>\n",
              "      <th>19233</th>\n",
              "      <td>26798</td>\n",
              "      <td>1</td>\n",
              "    </tr>\n",
              "  </tbody>\n",
              "</table>\n",
              "<p>19234 rows × 2 columns</p>\n",
              "</div>"
            ],
            "text/plain": [
              "       user_id  day\n",
              "0            1    1\n",
              "1            2    2\n",
              "2            3    7\n",
              "3            5    2\n",
              "4            7    1\n",
              "...        ...  ...\n",
              "19229    26790    4\n",
              "19230    26793    1\n",
              "19231    26794    9\n",
              "19232    26797    2\n",
              "19233    26798    1\n",
              "\n",
              "[19234 rows x 2 columns]"
            ]
          },
          "metadata": {},
          "execution_count": 34
        }
      ]
    },
    {
      "cell_type": "code",
      "metadata": {
        "colab": {
          "base_uri": "https://localhost:8080/"
        },
        "id": "60a2f9d6",
        "outputId": "ab2be1ae-7879-4360-db96-0cce07b5c4d6"
      },
      "source": [
        "users_days.nunique()"
      ],
      "id": "60a2f9d6",
      "execution_count": null,
      "outputs": [
        {
          "output_type": "execute_result",
          "data": {
            "text/plain": [
              "121"
            ]
          },
          "metadata": {},
          "execution_count": 35
        }
      ]
    },
    {
      "cell_type": "code",
      "metadata": {
        "id": "01976e69"
      },
      "source": [
        "users_data = users_data.merge(users_days, on = 'user_id', how = 'outer')"
      ],
      "id": "01976e69",
      "execution_count": null,
      "outputs": []
    },
    {
      "cell_type": "code",
      "metadata": {
        "colab": {
          "base_uri": "https://localhost:8080/",
          "height": 206
        },
        "id": "e9668330",
        "outputId": "da814a7f-ca57-44ee-956d-8678f17d3315"
      },
      "source": [
        "users_data.head()"
      ],
      "id": "e9668330",
      "execution_count": null,
      "outputs": [
        {
          "output_type": "execute_result",
          "data": {
            "text/html": [
              "<div>\n",
              "<style scoped>\n",
              "    .dataframe tbody tr th:only-of-type {\n",
              "        vertical-align: middle;\n",
              "    }\n",
              "\n",
              "    .dataframe tbody tr th {\n",
              "        vertical-align: top;\n",
              "    }\n",
              "\n",
              "    .dataframe thead th {\n",
              "        text-align: right;\n",
              "    }\n",
              "</style>\n",
              "<table border=\"1\" class=\"dataframe\">\n",
              "  <thead>\n",
              "    <tr style=\"text-align: right;\">\n",
              "      <th></th>\n",
              "      <th>user_id</th>\n",
              "      <th>last_timestamp</th>\n",
              "      <th>is_gone_user</th>\n",
              "      <th>correct</th>\n",
              "      <th>wrong</th>\n",
              "      <th>discovered</th>\n",
              "      <th>passed</th>\n",
              "      <th>started_attempt</th>\n",
              "      <th>viewed</th>\n",
              "      <th>day</th>\n",
              "    </tr>\n",
              "  </thead>\n",
              "  <tbody>\n",
              "    <tr>\n",
              "      <th>0</th>\n",
              "      <td>1</td>\n",
              "      <td>1472827464</td>\n",
              "      <td>True</td>\n",
              "      <td>0.0</td>\n",
              "      <td>0.0</td>\n",
              "      <td>1</td>\n",
              "      <td>0</td>\n",
              "      <td>0</td>\n",
              "      <td>1</td>\n",
              "      <td>1</td>\n",
              "    </tr>\n",
              "    <tr>\n",
              "      <th>1</th>\n",
              "      <td>2</td>\n",
              "      <td>1519226966</td>\n",
              "      <td>True</td>\n",
              "      <td>2.0</td>\n",
              "      <td>0.0</td>\n",
              "      <td>9</td>\n",
              "      <td>9</td>\n",
              "      <td>2</td>\n",
              "      <td>10</td>\n",
              "      <td>2</td>\n",
              "    </tr>\n",
              "    <tr>\n",
              "      <th>2</th>\n",
              "      <td>3</td>\n",
              "      <td>1444581588</td>\n",
              "      <td>True</td>\n",
              "      <td>29.0</td>\n",
              "      <td>23.0</td>\n",
              "      <td>91</td>\n",
              "      <td>87</td>\n",
              "      <td>30</td>\n",
              "      <td>192</td>\n",
              "      <td>7</td>\n",
              "    </tr>\n",
              "    <tr>\n",
              "      <th>3</th>\n",
              "      <td>5</td>\n",
              "      <td>1499859939</td>\n",
              "      <td>True</td>\n",
              "      <td>2.0</td>\n",
              "      <td>2.0</td>\n",
              "      <td>11</td>\n",
              "      <td>11</td>\n",
              "      <td>4</td>\n",
              "      <td>12</td>\n",
              "      <td>2</td>\n",
              "    </tr>\n",
              "    <tr>\n",
              "      <th>4</th>\n",
              "      <td>7</td>\n",
              "      <td>1521634660</td>\n",
              "      <td>True</td>\n",
              "      <td>0.0</td>\n",
              "      <td>0.0</td>\n",
              "      <td>1</td>\n",
              "      <td>1</td>\n",
              "      <td>0</td>\n",
              "      <td>1</td>\n",
              "      <td>1</td>\n",
              "    </tr>\n",
              "  </tbody>\n",
              "</table>\n",
              "</div>"
            ],
            "text/plain": [
              "   user_id  last_timestamp  is_gone_user  ...  started_attempt  viewed  day\n",
              "0        1      1472827464          True  ...                0       1    1\n",
              "1        2      1519226966          True  ...                2      10    2\n",
              "2        3      1444581588          True  ...               30     192    7\n",
              "3        5      1499859939          True  ...                4      12    2\n",
              "4        7      1521634660          True  ...                0       1    1\n",
              "\n",
              "[5 rows x 10 columns]"
            ]
          },
          "metadata": {},
          "execution_count": 37
        }
      ]
    },
    {
      "cell_type": "code",
      "metadata": {
        "colab": {
          "base_uri": "https://localhost:8080/",
          "height": 282
        },
        "id": "9a60c391",
        "outputId": "8f1f7b33-3ba4-4b45-8b95-78cbe92bd140"
      },
      "source": [
        "users_data.passed.hist()"
      ],
      "id": "9a60c391",
      "execution_count": null,
      "outputs": [
        {
          "output_type": "execute_result",
          "data": {
            "text/plain": [
              "<matplotlib.axes._subplots.AxesSubplot at 0x7f87961f9050>"
            ]
          },
          "metadata": {},
          "execution_count": 38
        },
        {
          "output_type": "display_data",
          "data": {
            "image/png": "[encoded data removed]",
            "text/plain": [
              "<Figure size 432x288 with 1 Axes>"
            ]
          },
          "metadata": {
            "needs_background": "light"
          }
        }
      ]
    },
    {
      "cell_type": "code",
      "metadata": {
        "colab": {
          "base_uri": "https://localhost:8080/"
        },
        "id": "ecb2651d",
        "outputId": "308d3539-e989-4aa9-d35f-5042619193a8"
      },
      "source": [
        "users_data.passed.quantile(0.9)"
      ],
      "id": "ecb2651d",
      "execution_count": null,
      "outputs": [
        {
          "output_type": "execute_result",
          "data": {
            "text/plain": [
              "122.0"
            ]
          },
          "metadata": {},
          "execution_count": 39
        }
      ]
    },
    {
      "cell_type": "code",
      "metadata": {
        "id": "6481a997"
      },
      "source": [
        "# добавление колонки пройденного курса (больше 170 степов passed)\n",
        "users_data['passed_course'] = users_data.passed > 170"
      ],
      "id": "6481a997",
      "execution_count": null,
      "outputs": []
    },
    {
      "cell_type": "code",
      "metadata": {
        "colab": {
          "base_uri": "https://localhost:8080/",
          "height": 206
        },
        "id": "db6319df",
        "outputId": "fead0013-4c82-4f12-d822-908e32973390"
      },
      "source": [
        "users_data.head()"
      ],
      "id": "db6319df",
      "execution_count": null,
      "outputs": [
        {
          "output_type": "execute_result",
          "data": {
            "text/html": [
              "<div>\n",
              "<style scoped>\n",
              "    .dataframe tbody tr th:only-of-type {\n",
              "        vertical-align: middle;\n",
              "    }\n",
              "\n",
              "    .dataframe tbody tr th {\n",
              "        vertical-align: top;\n",
              "    }\n",
              "\n",
              "    .dataframe thead th {\n",
              "        text-align: right;\n",
              "    }\n",
              "</style>\n",
              "<table border=\"1\" class=\"dataframe\">\n",
              "  <thead>\n",
              "    <tr style=\"text-align: right;\">\n",
              "      <th></th>\n",
              "      <th>user_id</th>\n",
              "      <th>last_timestamp</th>\n",
              "      <th>is_gone_user</th>\n",
              "      <th>correct</th>\n",
              "      <th>wrong</th>\n",
              "      <th>discovered</th>\n",
              "      <th>passed</th>\n",
              "      <th>started_attempt</th>\n",
              "      <th>viewed</th>\n",
              "      <th>day</th>\n",
              "      <th>passed_course</th>\n",
              "    </tr>\n",
              "  </thead>\n",
              "  <tbody>\n",
              "    <tr>\n",
              "      <th>0</th>\n",
              "      <td>1</td>\n",
              "      <td>1472827464</td>\n",
              "      <td>True</td>\n",
              "      <td>0.0</td>\n",
              "      <td>0.0</td>\n",
              "      <td>1</td>\n",
              "      <td>0</td>\n",
              "      <td>0</td>\n",
              "      <td>1</td>\n",
              "      <td>1</td>\n",
              "      <td>False</td>\n",
              "    </tr>\n",
              "    <tr>\n",
              "      <th>1</th>\n",
              "      <td>2</td>\n",
              "      <td>1519226966</td>\n",
              "      <td>True</td>\n",
              "      <td>2.0</td>\n",
              "      <td>0.0</td>\n",
              "      <td>9</td>\n",
              "      <td>9</td>\n",
              "      <td>2</td>\n",
              "      <td>10</td>\n",
              "      <td>2</td>\n",
              "      <td>False</td>\n",
              "    </tr>\n",
              "    <tr>\n",
              "      <th>2</th>\n",
              "      <td>3</td>\n",
              "      <td>1444581588</td>\n",
              "      <td>True</td>\n",
              "      <td>29.0</td>\n",
              "      <td>23.0</td>\n",
              "      <td>91</td>\n",
              "      <td>87</td>\n",
              "      <td>30</td>\n",
              "      <td>192</td>\n",
              "      <td>7</td>\n",
              "      <td>False</td>\n",
              "    </tr>\n",
              "    <tr>\n",
              "      <th>3</th>\n",
              "      <td>5</td>\n",
              "      <td>1499859939</td>\n",
              "      <td>True</td>\n",
              "      <td>2.0</td>\n",
              "      <td>2.0</td>\n",
              "      <td>11</td>\n",
              "      <td>11</td>\n",
              "      <td>4</td>\n",
              "      <td>12</td>\n",
              "      <td>2</td>\n",
              "      <td>False</td>\n",
              "    </tr>\n",
              "    <tr>\n",
              "      <th>4</th>\n",
              "      <td>7</td>\n",
              "      <td>1521634660</td>\n",
              "      <td>True</td>\n",
              "      <td>0.0</td>\n",
              "      <td>0.0</td>\n",
              "      <td>1</td>\n",
              "      <td>1</td>\n",
              "      <td>0</td>\n",
              "      <td>1</td>\n",
              "      <td>1</td>\n",
              "      <td>False</td>\n",
              "    </tr>\n",
              "  </tbody>\n",
              "</table>\n",
              "</div>"
            ],
            "text/plain": [
              "   user_id  last_timestamp  is_gone_user  ...  viewed  day  passed_course\n",
              "0        1      1472827464          True  ...       1    1          False\n",
              "1        2      1519226966          True  ...      10    2          False\n",
              "2        3      1444581588          True  ...     192    7          False\n",
              "3        5      1499859939          True  ...      12    2          False\n",
              "4        7      1521634660          True  ...       1    1          False\n",
              "\n",
              "[5 rows x 11 columns]"
            ]
          },
          "metadata": {},
          "execution_count": 41
        }
      ]
    },
    {
      "cell_type": "code",
      "metadata": {
        "colab": {
          "base_uri": "https://localhost:8080/",
          "height": 286
        },
        "id": "ac1e1cde",
        "outputId": "036c5a53-115f-4084-809a-e42a44091211"
      },
      "source": [
        "# распределение дней у пользователей прошедших курс\n",
        "users_data[users_data.passed_course].day.hist();\n",
        "# среднее значение прошедших курс в днях\n",
        "users_data[users_data.passed_course].day.median()"
      ],
      "id": "ac1e1cde",
      "execution_count": null,
      "outputs": [
        {
          "output_type": "execute_result",
          "data": {
            "text/plain": [
              "20.0"
            ]
          },
          "metadata": {},
          "execution_count": 42
        },
        {
          "output_type": "display_data",
          "data": {
            "image/png": "[encoded data removed]",
            "text/plain": [
              "<Figure size 432x288 with 1 Axes>"
            ]
          },
          "metadata": {
            "needs_background": "light"
          }
        }
      ]
    },
    {
      "cell_type": "code",
      "metadata": {
        "id": "b4a8778e"
      },
      "source": [
        "#  первый заход пользователя на курс\n",
        "user_min_time =events_data.groupby('user_id', as_index = False) \\\n",
        "                            .agg({'timestamp' : 'min'})\\\n",
        "                            .rename({'timestamp' : 'min_timestamp'},axis =1)"
      ],
      "id": "b4a8778e",
      "execution_count": null,
      "outputs": []
    },
    {
      "cell_type": "code",
      "metadata": {
        "colab": {
          "base_uri": "https://localhost:8080/",
          "height": 206
        },
        "id": "d3f21e70",
        "outputId": "a7866a88-4459-4505-9c67-99813e3296d5"
      },
      "source": [
        "user_min_time.head()"
      ],
      "id": "d3f21e70",
      "execution_count": null,
      "outputs": [
        {
          "output_type": "execute_result",
          "data": {
            "text/html": [
              "<div>\n",
              "<style scoped>\n",
              "    .dataframe tbody tr th:only-of-type {\n",
              "        vertical-align: middle;\n",
              "    }\n",
              "\n",
              "    .dataframe tbody tr th {\n",
              "        vertical-align: top;\n",
              "    }\n",
              "\n",
              "    .dataframe thead th {\n",
              "        text-align: right;\n",
              "    }\n",
              "</style>\n",
              "<table border=\"1\" class=\"dataframe\">\n",
              "  <thead>\n",
              "    <tr style=\"text-align: right;\">\n",
              "      <th></th>\n",
              "      <th>user_id</th>\n",
              "      <th>min_timestamp</th>\n",
              "    </tr>\n",
              "  </thead>\n",
              "  <tbody>\n",
              "    <tr>\n",
              "      <th>0</th>\n",
              "      <td>1</td>\n",
              "      <td>1472827464</td>\n",
              "    </tr>\n",
              "    <tr>\n",
              "      <th>1</th>\n",
              "      <td>2</td>\n",
              "      <td>1514383364</td>\n",
              "    </tr>\n",
              "    <tr>\n",
              "      <th>2</th>\n",
              "      <td>3</td>\n",
              "      <td>1434358476</td>\n",
              "    </tr>\n",
              "    <tr>\n",
              "      <th>3</th>\n",
              "      <td>5</td>\n",
              "      <td>1466156809</td>\n",
              "    </tr>\n",
              "    <tr>\n",
              "      <th>4</th>\n",
              "      <td>7</td>\n",
              "      <td>1521634660</td>\n",
              "    </tr>\n",
              "  </tbody>\n",
              "</table>\n",
              "</div>"
            ],
            "text/plain": [
              "   user_id  min_timestamp\n",
              "0        1     1472827464\n",
              "1        2     1514383364\n",
              "2        3     1434358476\n",
              "3        5     1466156809\n",
              "4        7     1521634660"
            ]
          },
          "metadata": {},
          "execution_count": 44
        }
      ]
    },
    {
      "cell_type": "code",
      "metadata": {
        "id": "63f099a7"
      },
      "source": [
        "users_data = users_data.merge(user_min_time,on = 'user_id', how = 'outer')"
      ],
      "id": "63f099a7",
      "execution_count": null,
      "outputs": []
    },
    {
      "cell_type": "code",
      "metadata": {
        "colab": {
          "base_uri": "https://localhost:8080/",
          "height": 206
        },
        "id": "ffe99c02",
        "outputId": "e9b2c384-98bc-4603-d01a-0fe9c0d19dc7"
      },
      "source": [
        "users_data.head()"
      ],
      "id": "ffe99c02",
      "execution_count": null,
      "outputs": [
        {
          "output_type": "execute_result",
          "data": {
            "text/html": [
              "<div>\n",
              "<style scoped>\n",
              "    .dataframe tbody tr th:only-of-type {\n",
              "        vertical-align: middle;\n",
              "    }\n",
              "\n",
              "    .dataframe tbody tr th {\n",
              "        vertical-align: top;\n",
              "    }\n",
              "\n",
              "    .dataframe thead th {\n",
              "        text-align: right;\n",
              "    }\n",
              "</style>\n",
              "<table border=\"1\" class=\"dataframe\">\n",
              "  <thead>\n",
              "    <tr style=\"text-align: right;\">\n",
              "      <th></th>\n",
              "      <th>user_id</th>\n",
              "      <th>last_timestamp</th>\n",
              "      <th>is_gone_user</th>\n",
              "      <th>correct</th>\n",
              "      <th>wrong</th>\n",
              "      <th>discovered</th>\n",
              "      <th>passed</th>\n",
              "      <th>started_attempt</th>\n",
              "      <th>viewed</th>\n",
              "      <th>day</th>\n",
              "      <th>passed_course</th>\n",
              "      <th>min_timestamp</th>\n",
              "    </tr>\n",
              "  </thead>\n",
              "  <tbody>\n",
              "    <tr>\n",
              "      <th>0</th>\n",
              "      <td>1</td>\n",
              "      <td>1472827464</td>\n",
              "      <td>True</td>\n",
              "      <td>0.0</td>\n",
              "      <td>0.0</td>\n",
              "      <td>1</td>\n",
              "      <td>0</td>\n",
              "      <td>0</td>\n",
              "      <td>1</td>\n",
              "      <td>1</td>\n",
              "      <td>False</td>\n",
              "      <td>1472827464</td>\n",
              "    </tr>\n",
              "    <tr>\n",
              "      <th>1</th>\n",
              "      <td>2</td>\n",
              "      <td>1519226966</td>\n",
              "      <td>True</td>\n",
              "      <td>2.0</td>\n",
              "      <td>0.0</td>\n",
              "      <td>9</td>\n",
              "      <td>9</td>\n",
              "      <td>2</td>\n",
              "      <td>10</td>\n",
              "      <td>2</td>\n",
              "      <td>False</td>\n",
              "      <td>1514383364</td>\n",
              "    </tr>\n",
              "    <tr>\n",
              "      <th>2</th>\n",
              "      <td>3</td>\n",
              "      <td>1444581588</td>\n",
              "      <td>True</td>\n",
              "      <td>29.0</td>\n",
              "      <td>23.0</td>\n",
              "      <td>91</td>\n",
              "      <td>87</td>\n",
              "      <td>30</td>\n",
              "      <td>192</td>\n",
              "      <td>7</td>\n",
              "      <td>False</td>\n",
              "      <td>1434358476</td>\n",
              "    </tr>\n",
              "    <tr>\n",
              "      <th>3</th>\n",
              "      <td>5</td>\n",
              "      <td>1499859939</td>\n",
              "      <td>True</td>\n",
              "      <td>2.0</td>\n",
              "      <td>2.0</td>\n",
              "      <td>11</td>\n",
              "      <td>11</td>\n",
              "      <td>4</td>\n",
              "      <td>12</td>\n",
              "      <td>2</td>\n",
              "      <td>False</td>\n",
              "      <td>1466156809</td>\n",
              "    </tr>\n",
              "    <tr>\n",
              "      <th>4</th>\n",
              "      <td>7</td>\n",
              "      <td>1521634660</td>\n",
              "      <td>True</td>\n",
              "      <td>0.0</td>\n",
              "      <td>0.0</td>\n",
              "      <td>1</td>\n",
              "      <td>1</td>\n",
              "      <td>0</td>\n",
              "      <td>1</td>\n",
              "      <td>1</td>\n",
              "      <td>False</td>\n",
              "      <td>1521634660</td>\n",
              "    </tr>\n",
              "  </tbody>\n",
              "</table>\n",
              "</div>"
            ],
            "text/plain": [
              "   user_id  last_timestamp  is_gone_user  ...  day  passed_course  min_timestamp\n",
              "0        1      1472827464          True  ...    1          False     1472827464\n",
              "1        2      1519226966          True  ...    2          False     1514383364\n",
              "2        3      1444581588          True  ...    7          False     1434358476\n",
              "3        5      1499859939          True  ...    2          False     1466156809\n",
              "4        7      1521634660          True  ...    1          False     1521634660\n",
              "\n",
              "[5 rows x 12 columns]"
            ]
          },
          "metadata": {},
          "execution_count": 46
        }
      ]
    },
    {
      "cell_type": "code",
      "metadata": {
        "colab": {
          "base_uri": "https://localhost:8080/"
        },
        "id": "33c82e4f",
        "outputId": "cee60079-884c-4e3c-c22c-7027516718ab"
      },
      "source": [
        "users_data.shape"
      ],
      "id": "33c82e4f",
      "execution_count": null,
      "outputs": [
        {
          "output_type": "execute_result",
          "data": {
            "text/plain": [
              "(19234, 12)"
            ]
          },
          "metadata": {},
          "execution_count": 47
        }
      ]
    },
    {
      "cell_type": "code",
      "metadata": {
        "id": "fd279413"
      },
      "source": [
        "# предсказания дропнется user или нет в течении 3дней с момента первого захода"
      ],
      "id": "fd279413",
      "execution_count": null,
      "outputs": []
    },
    {
      "cell_type": "code",
      "metadata": {
        "id": "b943dd07"
      },
      "source": [
        "learning_time_threshold = 5 *24 *60*60"
      ],
      "id": "b943dd07",
      "execution_count": null,
      "outputs": []
    },
    {
      "cell_type": "code",
      "metadata": {
        "id": "a9288e56"
      },
      "source": [
        "users_data['min+3days']= users_data.min_timestamp+learning_time_threshold"
      ],
      "id": "a9288e56",
      "execution_count": null,
      "outputs": []
    },
    {
      "cell_type": "code",
      "metadata": {
        "id": "07c60046"
      },
      "source": [
        "users_data3 = users_data[['user_id','min+3days']]"
      ],
      "id": "07c60046",
      "execution_count": null,
      "outputs": []
    },
    {
      "cell_type": "code",
      "metadata": {
        "colab": {
          "base_uri": "https://localhost:8080/",
          "height": 206
        },
        "id": "0003a943",
        "outputId": "0b8d917c-3473-4679-8481-227b3904f57c"
      },
      "source": [
        "users_data3.head()"
      ],
      "id": "0003a943",
      "execution_count": null,
      "outputs": [
        {
          "output_type": "execute_result",
          "data": {
            "text/html": [
              "<div>\n",
              "<style scoped>\n",
              "    .dataframe tbody tr th:only-of-type {\n",
              "        vertical-align: middle;\n",
              "    }\n",
              "\n",
              "    .dataframe tbody tr th {\n",
              "        vertical-align: top;\n",
              "    }\n",
              "\n",
              "    .dataframe thead th {\n",
              "        text-align: right;\n",
              "    }\n",
              "</style>\n",
              "<table border=\"1\" class=\"dataframe\">\n",
              "  <thead>\n",
              "    <tr style=\"text-align: right;\">\n",
              "      <th></th>\n",
              "      <th>user_id</th>\n",
              "      <th>min+3days</th>\n",
              "    </tr>\n",
              "  </thead>\n",
              "  <tbody>\n",
              "    <tr>\n",
              "      <th>0</th>\n",
              "      <td>1</td>\n",
              "      <td>1473259464</td>\n",
              "    </tr>\n",
              "    <tr>\n",
              "      <th>1</th>\n",
              "      <td>2</td>\n",
              "      <td>1514815364</td>\n",
              "    </tr>\n",
              "    <tr>\n",
              "      <th>2</th>\n",
              "      <td>3</td>\n",
              "      <td>1434790476</td>\n",
              "    </tr>\n",
              "    <tr>\n",
              "      <th>3</th>\n",
              "      <td>5</td>\n",
              "      <td>1466588809</td>\n",
              "    </tr>\n",
              "    <tr>\n",
              "      <th>4</th>\n",
              "      <td>7</td>\n",
              "      <td>1522066660</td>\n",
              "    </tr>\n",
              "  </tbody>\n",
              "</table>\n",
              "</div>"
            ],
            "text/plain": [
              "   user_id   min+3days\n",
              "0        1  1473259464\n",
              "1        2  1514815364\n",
              "2        3  1434790476\n",
              "3        5  1466588809\n",
              "4        7  1522066660"
            ]
          },
          "metadata": {},
          "execution_count": 52
        }
      ]
    },
    {
      "cell_type": "code",
      "metadata": {
        "id": "67e0fb9b"
      },
      "source": [
        "events_data_3 = events_data.merge(users_data3 , on ='user_id',how ='outer')"
      ],
      "id": "67e0fb9b",
      "execution_count": null,
      "outputs": []
    },
    {
      "cell_type": "code",
      "metadata": {
        "colab": {
          "base_uri": "https://localhost:8080/",
          "height": 206
        },
        "id": "004eef57",
        "outputId": "f0abba48-e6fa-4380-f8ac-d683b4e44897"
      },
      "source": [
        "events_data_3.head()"
      ],
      "id": "004eef57",
      "execution_count": null,
      "outputs": [
        {
          "output_type": "execute_result",
          "data": {
            "text/html": [
              "<div>\n",
              "<style scoped>\n",
              "    .dataframe tbody tr th:only-of-type {\n",
              "        vertical-align: middle;\n",
              "    }\n",
              "\n",
              "    .dataframe tbody tr th {\n",
              "        vertical-align: top;\n",
              "    }\n",
              "\n",
              "    .dataframe thead th {\n",
              "        text-align: right;\n",
              "    }\n",
              "</style>\n",
              "<table border=\"1\" class=\"dataframe\">\n",
              "  <thead>\n",
              "    <tr style=\"text-align: right;\">\n",
              "      <th></th>\n",
              "      <th>step_id</th>\n",
              "      <th>timestamp</th>\n",
              "      <th>action</th>\n",
              "      <th>user_id</th>\n",
              "      <th>date</th>\n",
              "      <th>day</th>\n",
              "      <th>min+3days</th>\n",
              "    </tr>\n",
              "  </thead>\n",
              "  <tbody>\n",
              "    <tr>\n",
              "      <th>0</th>\n",
              "      <td>32815</td>\n",
              "      <td>1434340848</td>\n",
              "      <td>viewed</td>\n",
              "      <td>17632</td>\n",
              "      <td>2015-06-15 04:00:48</td>\n",
              "      <td>2015-06-15</td>\n",
              "      <td>1434772848</td>\n",
              "    </tr>\n",
              "    <tr>\n",
              "      <th>1</th>\n",
              "      <td>32815</td>\n",
              "      <td>1434340848</td>\n",
              "      <td>passed</td>\n",
              "      <td>17632</td>\n",
              "      <td>2015-06-15 04:00:48</td>\n",
              "      <td>2015-06-15</td>\n",
              "      <td>1434772848</td>\n",
              "    </tr>\n",
              "    <tr>\n",
              "      <th>2</th>\n",
              "      <td>32815</td>\n",
              "      <td>1434340848</td>\n",
              "      <td>discovered</td>\n",
              "      <td>17632</td>\n",
              "      <td>2015-06-15 04:00:48</td>\n",
              "      <td>2015-06-15</td>\n",
              "      <td>1434772848</td>\n",
              "    </tr>\n",
              "    <tr>\n",
              "      <th>3</th>\n",
              "      <td>32811</td>\n",
              "      <td>1434340895</td>\n",
              "      <td>discovered</td>\n",
              "      <td>17632</td>\n",
              "      <td>2015-06-15 04:01:35</td>\n",
              "      <td>2015-06-15</td>\n",
              "      <td>1434772848</td>\n",
              "    </tr>\n",
              "    <tr>\n",
              "      <th>4</th>\n",
              "      <td>32811</td>\n",
              "      <td>1434340895</td>\n",
              "      <td>viewed</td>\n",
              "      <td>17632</td>\n",
              "      <td>2015-06-15 04:01:35</td>\n",
              "      <td>2015-06-15</td>\n",
              "      <td>1434772848</td>\n",
              "    </tr>\n",
              "  </tbody>\n",
              "</table>\n",
              "</div>"
            ],
            "text/plain": [
              "   step_id   timestamp      action  ...                date         day   min+3days\n",
              "0    32815  1434340848      viewed  ... 2015-06-15 04:00:48  2015-06-15  1434772848\n",
              "1    32815  1434340848      passed  ... 2015-06-15 04:00:48  2015-06-15  1434772848\n",
              "2    32815  1434340848  discovered  ... 2015-06-15 04:00:48  2015-06-15  1434772848\n",
              "3    32811  1434340895  discovered  ... 2015-06-15 04:01:35  2015-06-15  1434772848\n",
              "4    32811  1434340895      viewed  ... 2015-06-15 04:01:35  2015-06-15  1434772848\n",
              "\n",
              "[5 rows x 7 columns]"
            ]
          },
          "metadata": {},
          "execution_count": 54
        }
      ]
    },
    {
      "cell_type": "code",
      "metadata": {
        "colab": {
          "base_uri": "https://localhost:8080/"
        },
        "id": "72470a15",
        "outputId": "fa1b81d9-7efe-4b1d-c10c-5a2b8fffd04e"
      },
      "source": [
        "events_data_3.shape"
      ],
      "id": "72470a15",
      "execution_count": null,
      "outputs": [
        {
          "output_type": "execute_result",
          "data": {
            "text/plain": [
              "(3480703, 7)"
            ]
          },
          "metadata": {},
          "execution_count": 55
        }
      ]
    },
    {
      "cell_type": "code",
      "metadata": {
        "id": "1b6bb31b"
      },
      "source": [
        "# отбор событий пользователя за 3 дня с момента первого входа\n",
        "events_data_3days = events_data_3[events_data_3['timestamp']<= events_data_3['min+3days']]"
      ],
      "id": "1b6bb31b",
      "execution_count": null,
      "outputs": []
    },
    {
      "cell_type": "code",
      "metadata": {
        "colab": {
          "base_uri": "https://localhost:8080/"
        },
        "id": "a00885f0",
        "outputId": "73b2ff9f-866c-4d30-cc0d-d1ea49c999ba"
      },
      "source": [
        "events_data_3days.shape"
      ],
      "id": "a00885f0",
      "execution_count": null,
      "outputs": [
        {
          "output_type": "execute_result",
          "data": {
            "text/plain": [
              "(1193207, 7)"
            ]
          },
          "metadata": {},
          "execution_count": 57
        }
      ]
    },
    {
      "cell_type": "code",
      "metadata": {
        "colab": {
          "base_uri": "https://localhost:8080/",
          "height": 206
        },
        "id": "0a3feb19",
        "outputId": "a0f0e678-25a8-4527-8cc1-e7814278aad9"
      },
      "source": [
        "events_data_3days.head()"
      ],
      "id": "0a3feb19",
      "execution_count": null,
      "outputs": [
        {
          "output_type": "execute_result",
          "data": {
            "text/html": [
              "<div>\n",
              "<style scoped>\n",
              "    .dataframe tbody tr th:only-of-type {\n",
              "        vertical-align: middle;\n",
              "    }\n",
              "\n",
              "    .dataframe tbody tr th {\n",
              "        vertical-align: top;\n",
              "    }\n",
              "\n",
              "    .dataframe thead th {\n",
              "        text-align: right;\n",
              "    }\n",
              "</style>\n",
              "<table border=\"1\" class=\"dataframe\">\n",
              "  <thead>\n",
              "    <tr style=\"text-align: right;\">\n",
              "      <th></th>\n",
              "      <th>step_id</th>\n",
              "      <th>timestamp</th>\n",
              "      <th>action</th>\n",
              "      <th>user_id</th>\n",
              "      <th>date</th>\n",
              "      <th>day</th>\n",
              "      <th>min+3days</th>\n",
              "    </tr>\n",
              "  </thead>\n",
              "  <tbody>\n",
              "    <tr>\n",
              "      <th>0</th>\n",
              "      <td>32815</td>\n",
              "      <td>1434340848</td>\n",
              "      <td>viewed</td>\n",
              "      <td>17632</td>\n",
              "      <td>2015-06-15 04:00:48</td>\n",
              "      <td>2015-06-15</td>\n",
              "      <td>1434772848</td>\n",
              "    </tr>\n",
              "    <tr>\n",
              "      <th>1</th>\n",
              "      <td>32815</td>\n",
              "      <td>1434340848</td>\n",
              "      <td>passed</td>\n",
              "      <td>17632</td>\n",
              "      <td>2015-06-15 04:00:48</td>\n",
              "      <td>2015-06-15</td>\n",
              "      <td>1434772848</td>\n",
              "    </tr>\n",
              "    <tr>\n",
              "      <th>2</th>\n",
              "      <td>32815</td>\n",
              "      <td>1434340848</td>\n",
              "      <td>discovered</td>\n",
              "      <td>17632</td>\n",
              "      <td>2015-06-15 04:00:48</td>\n",
              "      <td>2015-06-15</td>\n",
              "      <td>1434772848</td>\n",
              "    </tr>\n",
              "    <tr>\n",
              "      <th>3</th>\n",
              "      <td>32811</td>\n",
              "      <td>1434340895</td>\n",
              "      <td>discovered</td>\n",
              "      <td>17632</td>\n",
              "      <td>2015-06-15 04:01:35</td>\n",
              "      <td>2015-06-15</td>\n",
              "      <td>1434772848</td>\n",
              "    </tr>\n",
              "    <tr>\n",
              "      <th>4</th>\n",
              "      <td>32811</td>\n",
              "      <td>1434340895</td>\n",
              "      <td>viewed</td>\n",
              "      <td>17632</td>\n",
              "      <td>2015-06-15 04:01:35</td>\n",
              "      <td>2015-06-15</td>\n",
              "      <td>1434772848</td>\n",
              "    </tr>\n",
              "  </tbody>\n",
              "</table>\n",
              "</div>"
            ],
            "text/plain": [
              "   step_id   timestamp      action  ...                date         day   min+3days\n",
              "0    32815  1434340848      viewed  ... 2015-06-15 04:00:48  2015-06-15  1434772848\n",
              "1    32815  1434340848      passed  ... 2015-06-15 04:00:48  2015-06-15  1434772848\n",
              "2    32815  1434340848  discovered  ... 2015-06-15 04:00:48  2015-06-15  1434772848\n",
              "3    32811  1434340895  discovered  ... 2015-06-15 04:01:35  2015-06-15  1434772848\n",
              "4    32811  1434340895      viewed  ... 2015-06-15 04:01:35  2015-06-15  1434772848\n",
              "\n",
              "[5 rows x 7 columns]"
            ]
          },
          "metadata": {},
          "execution_count": 58
        }
      ]
    },
    {
      "cell_type": "code",
      "metadata": {
        "colab": {
          "base_uri": "https://localhost:8080/",
          "height": 206
        },
        "id": "6a9d5d84",
        "outputId": "b56fbc29-4b49-41fb-b9e6-7dd073d48f3c"
      },
      "source": [
        "#  Нахождение сложного степа, на котором больше всего ошибочных результатов\n",
        "submission_data.head()"
      ],
      "id": "6a9d5d84",
      "execution_count": null,
      "outputs": [
        {
          "output_type": "execute_result",
          "data": {
            "text/html": [
              "<div>\n",
              "<style scoped>\n",
              "    .dataframe tbody tr th:only-of-type {\n",
              "        vertical-align: middle;\n",
              "    }\n",
              "\n",
              "    .dataframe tbody tr th {\n",
              "        vertical-align: top;\n",
              "    }\n",
              "\n",
              "    .dataframe thead th {\n",
              "        text-align: right;\n",
              "    }\n",
              "</style>\n",
              "<table border=\"1\" class=\"dataframe\">\n",
              "  <thead>\n",
              "    <tr style=\"text-align: right;\">\n",
              "      <th></th>\n",
              "      <th>step_id</th>\n",
              "      <th>timestamp</th>\n",
              "      <th>submission_status</th>\n",
              "      <th>user_id</th>\n",
              "      <th>date</th>\n",
              "      <th>day</th>\n",
              "    </tr>\n",
              "  </thead>\n",
              "  <tbody>\n",
              "    <tr>\n",
              "      <th>0</th>\n",
              "      <td>31971</td>\n",
              "      <td>1434349275</td>\n",
              "      <td>correct</td>\n",
              "      <td>15853</td>\n",
              "      <td>2015-06-15 06:21:15</td>\n",
              "      <td>2015-06-15</td>\n",
              "    </tr>\n",
              "    <tr>\n",
              "      <th>1</th>\n",
              "      <td>31972</td>\n",
              "      <td>1434348300</td>\n",
              "      <td>correct</td>\n",
              "      <td>15853</td>\n",
              "      <td>2015-06-15 06:05:00</td>\n",
              "      <td>2015-06-15</td>\n",
              "    </tr>\n",
              "    <tr>\n",
              "      <th>2</th>\n",
              "      <td>31972</td>\n",
              "      <td>1478852149</td>\n",
              "      <td>wrong</td>\n",
              "      <td>15853</td>\n",
              "      <td>2016-11-11 08:15:49</td>\n",
              "      <td>2016-11-11</td>\n",
              "    </tr>\n",
              "    <tr>\n",
              "      <th>3</th>\n",
              "      <td>31972</td>\n",
              "      <td>1478852164</td>\n",
              "      <td>correct</td>\n",
              "      <td>15853</td>\n",
              "      <td>2016-11-11 08:16:04</td>\n",
              "      <td>2016-11-11</td>\n",
              "    </tr>\n",
              "    <tr>\n",
              "      <th>4</th>\n",
              "      <td>31976</td>\n",
              "      <td>1434348123</td>\n",
              "      <td>wrong</td>\n",
              "      <td>15853</td>\n",
              "      <td>2015-06-15 06:02:03</td>\n",
              "      <td>2015-06-15</td>\n",
              "    </tr>\n",
              "  </tbody>\n",
              "</table>\n",
              "</div>"
            ],
            "text/plain": [
              "   step_id   timestamp  ...                date         day\n",
              "0    31971  1434349275  ... 2015-06-15 06:21:15  2015-06-15\n",
              "1    31972  1434348300  ... 2015-06-15 06:05:00  2015-06-15\n",
              "2    31972  1478852149  ... 2016-11-11 08:15:49  2016-11-11\n",
              "3    31972  1478852164  ... 2016-11-11 08:16:04  2016-11-11\n",
              "4    31976  1434348123  ... 2015-06-15 06:02:03  2015-06-15\n",
              "\n",
              "[5 rows x 6 columns]"
            ]
          },
          "metadata": {},
          "execution_count": 59
        }
      ]
    },
    {
      "cell_type": "code",
      "metadata": {
        "id": "4396a899"
      },
      "source": [
        "steps_data = submission_data.pivot_table(index = 'step_id', \\\n",
        "                                          columns = 'submission_status', \\\n",
        "                                          values = 'user_id', \\\n",
        "                                           aggfunc = 'count',\\\n",
        "                                          fill_value = 0)\\\n",
        "                                          .reset_index()\\\n",
        ""
      ],
      "id": "4396a899",
      "execution_count": null,
      "outputs": []
    },
    {
      "cell_type": "code",
      "metadata": {
        "colab": {
          "base_uri": "https://localhost:8080/",
          "height": 206
        },
        "id": "a038ac27",
        "outputId": "108c80df-518c-4728-e34e-dde71be4f100"
      },
      "source": [
        "steps_data.head()"
      ],
      "id": "a038ac27",
      "execution_count": null,
      "outputs": [
        {
          "output_type": "execute_result",
          "data": {
            "text/html": [
              "<div>\n",
              "<style scoped>\n",
              "    .dataframe tbody tr th:only-of-type {\n",
              "        vertical-align: middle;\n",
              "    }\n",
              "\n",
              "    .dataframe tbody tr th {\n",
              "        vertical-align: top;\n",
              "    }\n",
              "\n",
              "    .dataframe thead th {\n",
              "        text-align: right;\n",
              "    }\n",
              "</style>\n",
              "<table border=\"1\" class=\"dataframe\">\n",
              "  <thead>\n",
              "    <tr style=\"text-align: right;\">\n",
              "      <th>submission_status</th>\n",
              "      <th>step_id</th>\n",
              "      <th>correct</th>\n",
              "      <th>wrong</th>\n",
              "    </tr>\n",
              "  </thead>\n",
              "  <tbody>\n",
              "    <tr>\n",
              "      <th>0</th>\n",
              "      <td>31971</td>\n",
              "      <td>6257</td>\n",
              "      <td>6893</td>\n",
              "    </tr>\n",
              "    <tr>\n",
              "      <th>1</th>\n",
              "      <td>31972</td>\n",
              "      <td>6434</td>\n",
              "      <td>8960</td>\n",
              "    </tr>\n",
              "    <tr>\n",
              "      <th>2</th>\n",
              "      <td>31976</td>\n",
              "      <td>6580</td>\n",
              "      <td>5937</td>\n",
              "    </tr>\n",
              "    <tr>\n",
              "      <th>3</th>\n",
              "      <td>31977</td>\n",
              "      <td>6800</td>\n",
              "      <td>6457</td>\n",
              "    </tr>\n",
              "    <tr>\n",
              "      <th>4</th>\n",
              "      <td>31978</td>\n",
              "      <td>6094</td>\n",
              "      <td>16084</td>\n",
              "    </tr>\n",
              "  </tbody>\n",
              "</table>\n",
              "</div>"
            ],
            "text/plain": [
              "submission_status  step_id  correct  wrong\n",
              "0                    31971     6257   6893\n",
              "1                    31972     6434   8960\n",
              "2                    31976     6580   5937\n",
              "3                    31977     6800   6457\n",
              "4                    31978     6094  16084"
            ]
          },
          "metadata": {},
          "execution_count": 61
        }
      ]
    },
    {
      "cell_type": "code",
      "metadata": {
        "colab": {
          "base_uri": "https://localhost:8080/",
          "height": 81
        },
        "id": "3894e071",
        "outputId": "2ef76ece-23a6-40f4-d583-6724f18ad44f"
      },
      "source": [
        "steps_data[steps_data['wrong'] == steps_data['wrong'].max()]"
      ],
      "id": "3894e071",
      "execution_count": null,
      "outputs": [
        {
          "output_type": "execute_result",
          "data": {
            "text/html": [
              "<div>\n",
              "<style scoped>\n",
              "    .dataframe tbody tr th:only-of-type {\n",
              "        vertical-align: middle;\n",
              "    }\n",
              "\n",
              "    .dataframe tbody tr th {\n",
              "        vertical-align: top;\n",
              "    }\n",
              "\n",
              "    .dataframe thead th {\n",
              "        text-align: right;\n",
              "    }\n",
              "</style>\n",
              "<table border=\"1\" class=\"dataframe\">\n",
              "  <thead>\n",
              "    <tr style=\"text-align: right;\">\n",
              "      <th>submission_status</th>\n",
              "      <th>step_id</th>\n",
              "      <th>correct</th>\n",
              "      <th>wrong</th>\n",
              "    </tr>\n",
              "  </thead>\n",
              "  <tbody>\n",
              "    <tr>\n",
              "      <th>4</th>\n",
              "      <td>31978</td>\n",
              "      <td>6094</td>\n",
              "      <td>16084</td>\n",
              "    </tr>\n",
              "  </tbody>\n",
              "</table>\n",
              "</div>"
            ],
            "text/plain": [
              "submission_status  step_id  correct  wrong\n",
              "4                    31978     6094  16084"
            ]
          },
          "metadata": {},
          "execution_count": 62
        }
      ]
    },
    {
      "cell_type": "code",
      "metadata": {
        "colab": {
          "base_uri": "https://localhost:8080/"
        },
        "id": "917f049f",
        "outputId": "871b2ed4-8c79-4c0f-fb7f-87c688d4990f"
      },
      "source": [
        "# Проверка на количество уникальных дней с момента первого входа на курс и до первого входа+3дня.больше 4 дней получить нельзя\n",
        "events_data_3days.groupby('user_id').day.nunique().max()"
      ],
      "id": "917f049f",
      "execution_count": null,
      "outputs": [
        {
          "output_type": "execute_result",
          "data": {
            "text/plain": [
              "6"
            ]
          },
          "metadata": {},
          "execution_count": 63
        }
      ]
    },
    {
      "cell_type": "code",
      "metadata": {
        "id": "77975c4a"
      },
      "source": [
        "# отбираем submissions data для пользователей в течении 3 дней после 1 входа на курс (уже сделали для events_data)"
      ],
      "id": "77975c4a",
      "execution_count": null,
      "outputs": []
    },
    {
      "cell_type": "code",
      "metadata": {
        "id": "c2de33c9"
      },
      "source": [
        "submission_data_3 = submission_data.merge(users_data3,on = 'user_id',how = 'outer')"
      ],
      "id": "c2de33c9",
      "execution_count": null,
      "outputs": []
    },
    {
      "cell_type": "code",
      "metadata": {
        "colab": {
          "base_uri": "https://localhost:8080/",
          "height": 206
        },
        "id": "cadef669",
        "outputId": "ce29e9e6-9bb8-49c7-b55a-121464341414"
      },
      "source": [
        "submission_data_3.head()"
      ],
      "id": "cadef669",
      "execution_count": null,
      "outputs": [
        {
          "output_type": "execute_result",
          "data": {
            "text/html": [
              "<div>\n",
              "<style scoped>\n",
              "    .dataframe tbody tr th:only-of-type {\n",
              "        vertical-align: middle;\n",
              "    }\n",
              "\n",
              "    .dataframe tbody tr th {\n",
              "        vertical-align: top;\n",
              "    }\n",
              "\n",
              "    .dataframe thead th {\n",
              "        text-align: right;\n",
              "    }\n",
              "</style>\n",
              "<table border=\"1\" class=\"dataframe\">\n",
              "  <thead>\n",
              "    <tr style=\"text-align: right;\">\n",
              "      <th></th>\n",
              "      <th>step_id</th>\n",
              "      <th>timestamp</th>\n",
              "      <th>submission_status</th>\n",
              "      <th>user_id</th>\n",
              "      <th>date</th>\n",
              "      <th>day</th>\n",
              "      <th>min+3days</th>\n",
              "    </tr>\n",
              "  </thead>\n",
              "  <tbody>\n",
              "    <tr>\n",
              "      <th>0</th>\n",
              "      <td>31971.0</td>\n",
              "      <td>1.434349e+09</td>\n",
              "      <td>correct</td>\n",
              "      <td>15853</td>\n",
              "      <td>2015-06-15 06:21:15</td>\n",
              "      <td>2015-06-15</td>\n",
              "      <td>1434777977</td>\n",
              "    </tr>\n",
              "    <tr>\n",
              "      <th>1</th>\n",
              "      <td>31972.0</td>\n",
              "      <td>1.434348e+09</td>\n",
              "      <td>correct</td>\n",
              "      <td>15853</td>\n",
              "      <td>2015-06-15 06:05:00</td>\n",
              "      <td>2015-06-15</td>\n",
              "      <td>1434777977</td>\n",
              "    </tr>\n",
              "    <tr>\n",
              "      <th>2</th>\n",
              "      <td>31972.0</td>\n",
              "      <td>1.478852e+09</td>\n",
              "      <td>wrong</td>\n",
              "      <td>15853</td>\n",
              "      <td>2016-11-11 08:15:49</td>\n",
              "      <td>2016-11-11</td>\n",
              "      <td>1434777977</td>\n",
              "    </tr>\n",
              "    <tr>\n",
              "      <th>3</th>\n",
              "      <td>31972.0</td>\n",
              "      <td>1.478852e+09</td>\n",
              "      <td>correct</td>\n",
              "      <td>15853</td>\n",
              "      <td>2016-11-11 08:16:04</td>\n",
              "      <td>2016-11-11</td>\n",
              "      <td>1434777977</td>\n",
              "    </tr>\n",
              "    <tr>\n",
              "      <th>4</th>\n",
              "      <td>31976.0</td>\n",
              "      <td>1.434348e+09</td>\n",
              "      <td>wrong</td>\n",
              "      <td>15853</td>\n",
              "      <td>2015-06-15 06:02:03</td>\n",
              "      <td>2015-06-15</td>\n",
              "      <td>1434777977</td>\n",
              "    </tr>\n",
              "  </tbody>\n",
              "</table>\n",
              "</div>"
            ],
            "text/plain": [
              "   step_id     timestamp  ...         day   min+3days\n",
              "0  31971.0  1.434349e+09  ...  2015-06-15  1434777977\n",
              "1  31972.0  1.434348e+09  ...  2015-06-15  1434777977\n",
              "2  31972.0  1.478852e+09  ...  2016-11-11  1434777977\n",
              "3  31972.0  1.478852e+09  ...  2016-11-11  1434777977\n",
              "4  31976.0  1.434348e+09  ...  2015-06-15  1434777977\n",
              "\n",
              "[5 rows x 7 columns]"
            ]
          },
          "metadata": {},
          "execution_count": 66
        }
      ]
    },
    {
      "cell_type": "code",
      "metadata": {
        "id": "c94ab600"
      },
      "source": [
        "submission_data_3days = submission_data_3[submission_data_3.timestamp <= submission_data_3['min+3days']]"
      ],
      "id": "c94ab600",
      "execution_count": null,
      "outputs": []
    },
    {
      "cell_type": "code",
      "metadata": {
        "colab": {
          "base_uri": "https://localhost:8080/",
          "height": 206
        },
        "id": "8c232733",
        "outputId": "01e7447c-465c-40ad-8719-a9ade7a58eeb"
      },
      "source": [
        "submission_data_3days.head()"
      ],
      "id": "8c232733",
      "execution_count": null,
      "outputs": [
        {
          "output_type": "execute_result",
          "data": {
            "text/html": [
              "<div>\n",
              "<style scoped>\n",
              "    .dataframe tbody tr th:only-of-type {\n",
              "        vertical-align: middle;\n",
              "    }\n",
              "\n",
              "    .dataframe tbody tr th {\n",
              "        vertical-align: top;\n",
              "    }\n",
              "\n",
              "    .dataframe thead th {\n",
              "        text-align: right;\n",
              "    }\n",
              "</style>\n",
              "<table border=\"1\" class=\"dataframe\">\n",
              "  <thead>\n",
              "    <tr style=\"text-align: right;\">\n",
              "      <th></th>\n",
              "      <th>step_id</th>\n",
              "      <th>timestamp</th>\n",
              "      <th>submission_status</th>\n",
              "      <th>user_id</th>\n",
              "      <th>date</th>\n",
              "      <th>day</th>\n",
              "      <th>min+3days</th>\n",
              "    </tr>\n",
              "  </thead>\n",
              "  <tbody>\n",
              "    <tr>\n",
              "      <th>0</th>\n",
              "      <td>31971.0</td>\n",
              "      <td>1.434349e+09</td>\n",
              "      <td>correct</td>\n",
              "      <td>15853</td>\n",
              "      <td>2015-06-15 06:21:15</td>\n",
              "      <td>2015-06-15</td>\n",
              "      <td>1434777977</td>\n",
              "    </tr>\n",
              "    <tr>\n",
              "      <th>1</th>\n",
              "      <td>31972.0</td>\n",
              "      <td>1.434348e+09</td>\n",
              "      <td>correct</td>\n",
              "      <td>15853</td>\n",
              "      <td>2015-06-15 06:05:00</td>\n",
              "      <td>2015-06-15</td>\n",
              "      <td>1434777977</td>\n",
              "    </tr>\n",
              "    <tr>\n",
              "      <th>4</th>\n",
              "      <td>31976.0</td>\n",
              "      <td>1.434348e+09</td>\n",
              "      <td>wrong</td>\n",
              "      <td>15853</td>\n",
              "      <td>2015-06-15 06:02:03</td>\n",
              "      <td>2015-06-15</td>\n",
              "      <td>1434777977</td>\n",
              "    </tr>\n",
              "    <tr>\n",
              "      <th>5</th>\n",
              "      <td>31976.0</td>\n",
              "      <td>1.434348e+09</td>\n",
              "      <td>correct</td>\n",
              "      <td>15853</td>\n",
              "      <td>2015-06-15 06:03:08</td>\n",
              "      <td>2015-06-15</td>\n",
              "      <td>1434777977</td>\n",
              "    </tr>\n",
              "    <tr>\n",
              "      <th>7</th>\n",
              "      <td>31977.0</td>\n",
              "      <td>1.434347e+09</td>\n",
              "      <td>correct</td>\n",
              "      <td>15853</td>\n",
              "      <td>2015-06-15 05:49:31</td>\n",
              "      <td>2015-06-15</td>\n",
              "      <td>1434777977</td>\n",
              "    </tr>\n",
              "  </tbody>\n",
              "</table>\n",
              "</div>"
            ],
            "text/plain": [
              "   step_id     timestamp  ...         day   min+3days\n",
              "0  31971.0  1.434349e+09  ...  2015-06-15  1434777977\n",
              "1  31972.0  1.434348e+09  ...  2015-06-15  1434777977\n",
              "4  31976.0  1.434348e+09  ...  2015-06-15  1434777977\n",
              "5  31976.0  1.434348e+09  ...  2015-06-15  1434777977\n",
              "7  31977.0  1.434347e+09  ...  2015-06-15  1434777977\n",
              "\n",
              "[5 rows x 7 columns]"
            ]
          },
          "metadata": {},
          "execution_count": 68
        }
      ]
    },
    {
      "cell_type": "code",
      "metadata": {
        "colab": {
          "base_uri": "https://localhost:8080/"
        },
        "id": "1d99c059",
        "outputId": "4ef15b53-d30e-46c1-cf17-f7ec123509ea"
      },
      "source": [
        "# Проверка на количество уникальных дней с момента первого входа на курс и до первого входа+3дня.больше 4 дней получить нельзя\n",
        "submission_data_3days.groupby('user_id').day.nunique().max()"
      ],
      "id": "1d99c059",
      "execution_count": null,
      "outputs": [
        {
          "output_type": "execute_result",
          "data": {
            "text/plain": [
              "6"
            ]
          },
          "metadata": {},
          "execution_count": 69
        }
      ]
    },
    {
      "cell_type": "code",
      "metadata": {
        "id": "6ac0062e"
      },
      "source": [
        "# Прогнозирование дропаута пользователя\n",
        "# 'Правильные' ответы на users_data.is_gone_user"
      ],
      "id": "6ac0062e",
      "execution_count": null,
      "outputs": []
    },
    {
      "cell_type": "code",
      "metadata": {
        "id": "d796987a"
      },
      "source": [
        "# уникальное количество дней проведенных в промежутке от первого входа до первого входа+3дня для каждого пользователя\n",
        "X = submission_data_3days.groupby('user_id').day.nunique().to_frame().reset_index()\\\n",
        ".rename(columns = {'day' : 'days'})"
      ],
      "id": "d796987a",
      "execution_count": null,
      "outputs": []
    },
    {
      "cell_type": "code",
      "metadata": {
        "colab": {
          "base_uri": "https://localhost:8080/",
          "height": 206
        },
        "id": "0e3db6da",
        "outputId": "5ba8b255-9fe3-4e1c-f796-5e22a8fccd7a"
      },
      "source": [
        "X.head()"
      ],
      "id": "0e3db6da",
      "execution_count": null,
      "outputs": [
        {
          "output_type": "execute_result",
          "data": {
            "text/html": [
              "<div>\n",
              "<style scoped>\n",
              "    .dataframe tbody tr th:only-of-type {\n",
              "        vertical-align: middle;\n",
              "    }\n",
              "\n",
              "    .dataframe tbody tr th {\n",
              "        vertical-align: top;\n",
              "    }\n",
              "\n",
              "    .dataframe thead th {\n",
              "        text-align: right;\n",
              "    }\n",
              "</style>\n",
              "<table border=\"1\" class=\"dataframe\">\n",
              "  <thead>\n",
              "    <tr style=\"text-align: right;\">\n",
              "      <th></th>\n",
              "      <th>user_id</th>\n",
              "      <th>days</th>\n",
              "    </tr>\n",
              "  </thead>\n",
              "  <tbody>\n",
              "    <tr>\n",
              "      <th>0</th>\n",
              "      <td>2</td>\n",
              "      <td>1</td>\n",
              "    </tr>\n",
              "    <tr>\n",
              "      <th>1</th>\n",
              "      <td>3</td>\n",
              "      <td>1</td>\n",
              "    </tr>\n",
              "    <tr>\n",
              "      <th>2</th>\n",
              "      <td>8</td>\n",
              "      <td>1</td>\n",
              "    </tr>\n",
              "    <tr>\n",
              "      <th>3</th>\n",
              "      <td>14</td>\n",
              "      <td>1</td>\n",
              "    </tr>\n",
              "    <tr>\n",
              "      <th>4</th>\n",
              "      <td>16</td>\n",
              "      <td>4</td>\n",
              "    </tr>\n",
              "  </tbody>\n",
              "</table>\n",
              "</div>"
            ],
            "text/plain": [
              "   user_id  days\n",
              "0        2     1\n",
              "1        3     1\n",
              "2        8     1\n",
              "3       14     1\n",
              "4       16     4"
            ]
          },
          "metadata": {},
          "execution_count": 72
        }
      ]
    },
    {
      "cell_type": "code",
      "metadata": {
        "id": "8fd3be4d"
      },
      "source": [
        "# количество степов просмотреных пользователем\n",
        "steps_tried = submission_data_3days.groupby('user_id').step_id.nunique().to_frame().reset_index() \\\n",
        ".rename(columns={'step_id' : 'steps_tried'})"
      ],
      "id": "8fd3be4d",
      "execution_count": null,
      "outputs": []
    },
    {
      "cell_type": "code",
      "metadata": {
        "colab": {
          "base_uri": "https://localhost:8080/",
          "height": 206
        },
        "id": "43c3f8c0",
        "outputId": "3ccdb1c1-d32a-452a-dce1-42638e5087d4"
      },
      "source": [
        "steps_tried.head()"
      ],
      "id": "43c3f8c0",
      "execution_count": null,
      "outputs": [
        {
          "output_type": "execute_result",
          "data": {
            "text/html": [
              "<div>\n",
              "<style scoped>\n",
              "    .dataframe tbody tr th:only-of-type {\n",
              "        vertical-align: middle;\n",
              "    }\n",
              "\n",
              "    .dataframe tbody tr th {\n",
              "        vertical-align: top;\n",
              "    }\n",
              "\n",
              "    .dataframe thead th {\n",
              "        text-align: right;\n",
              "    }\n",
              "</style>\n",
              "<table border=\"1\" class=\"dataframe\">\n",
              "  <thead>\n",
              "    <tr style=\"text-align: right;\">\n",
              "      <th></th>\n",
              "      <th>user_id</th>\n",
              "      <th>steps_tried</th>\n",
              "    </tr>\n",
              "  </thead>\n",
              "  <tbody>\n",
              "    <tr>\n",
              "      <th>0</th>\n",
              "      <td>2</td>\n",
              "      <td>2</td>\n",
              "    </tr>\n",
              "    <tr>\n",
              "      <th>1</th>\n",
              "      <td>3</td>\n",
              "      <td>4</td>\n",
              "    </tr>\n",
              "    <tr>\n",
              "      <th>2</th>\n",
              "      <td>8</td>\n",
              "      <td>11</td>\n",
              "    </tr>\n",
              "    <tr>\n",
              "      <th>3</th>\n",
              "      <td>14</td>\n",
              "      <td>1</td>\n",
              "    </tr>\n",
              "    <tr>\n",
              "      <th>4</th>\n",
              "      <td>16</td>\n",
              "      <td>24</td>\n",
              "    </tr>\n",
              "  </tbody>\n",
              "</table>\n",
              "</div>"
            ],
            "text/plain": [
              "   user_id  steps_tried\n",
              "0        2            2\n",
              "1        3            4\n",
              "2        8           11\n",
              "3       14            1\n",
              "4       16           24"
            ]
          },
          "metadata": {},
          "execution_count": 74
        }
      ]
    },
    {
      "cell_type": "code",
      "metadata": {
        "id": "57244bee"
      },
      "source": [
        "X = X.merge(steps_tried, on = 'user_id', how = 'outer')"
      ],
      "id": "57244bee",
      "execution_count": null,
      "outputs": []
    },
    {
      "cell_type": "code",
      "metadata": {
        "colab": {
          "base_uri": "https://localhost:8080/",
          "height": 206
        },
        "id": "26e09c0d",
        "outputId": "cf712daf-3be2-4686-b40d-f62bea966eaf"
      },
      "source": [
        "X.head()"
      ],
      "id": "26e09c0d",
      "execution_count": null,
      "outputs": [
        {
          "output_type": "execute_result",
          "data": {
            "text/html": [
              "<div>\n",
              "<style scoped>\n",
              "    .dataframe tbody tr th:only-of-type {\n",
              "        vertical-align: middle;\n",
              "    }\n",
              "\n",
              "    .dataframe tbody tr th {\n",
              "        vertical-align: top;\n",
              "    }\n",
              "\n",
              "    .dataframe thead th {\n",
              "        text-align: right;\n",
              "    }\n",
              "</style>\n",
              "<table border=\"1\" class=\"dataframe\">\n",
              "  <thead>\n",
              "    <tr style=\"text-align: right;\">\n",
              "      <th></th>\n",
              "      <th>user_id</th>\n",
              "      <th>days</th>\n",
              "      <th>steps_tried</th>\n",
              "    </tr>\n",
              "  </thead>\n",
              "  <tbody>\n",
              "    <tr>\n",
              "      <th>0</th>\n",
              "      <td>2</td>\n",
              "      <td>1</td>\n",
              "      <td>2</td>\n",
              "    </tr>\n",
              "    <tr>\n",
              "      <th>1</th>\n",
              "      <td>3</td>\n",
              "      <td>1</td>\n",
              "      <td>4</td>\n",
              "    </tr>\n",
              "    <tr>\n",
              "      <th>2</th>\n",
              "      <td>8</td>\n",
              "      <td>1</td>\n",
              "      <td>11</td>\n",
              "    </tr>\n",
              "    <tr>\n",
              "      <th>3</th>\n",
              "      <td>14</td>\n",
              "      <td>1</td>\n",
              "      <td>1</td>\n",
              "    </tr>\n",
              "    <tr>\n",
              "      <th>4</th>\n",
              "      <td>16</td>\n",
              "      <td>4</td>\n",
              "      <td>24</td>\n",
              "    </tr>\n",
              "  </tbody>\n",
              "</table>\n",
              "</div>"
            ],
            "text/plain": [
              "   user_id  days  steps_tried\n",
              "0        2     1            2\n",
              "1        3     1            4\n",
              "2        8     1           11\n",
              "3       14     1            1\n",
              "4       16     4           24"
            ]
          },
          "metadata": {},
          "execution_count": 76
        }
      ]
    },
    {
      "cell_type": "code",
      "metadata": {
        "id": "555b48d6"
      },
      "source": [
        "# добавление результатов о решенных степах\n",
        "X = X.merge(submission_data_3days.pivot_table(index = 'user_id',\n",
        "                                 columns = 'submission_status',\n",
        "                                 values = 'step_id',\n",
        "                                 aggfunc = 'count',\n",
        "                                 fill_value = 0).reset_index(),\n",
        "            on = 'user_id',how = 'outer')"
      ],
      "id": "555b48d6",
      "execution_count": null,
      "outputs": []
    },
    {
      "cell_type": "code",
      "metadata": {
        "colab": {
          "base_uri": "https://localhost:8080/",
          "height": 206
        },
        "id": "76aa44ff",
        "outputId": "acb03718-87b5-4d7f-feb9-08aa62530f6d"
      },
      "source": [
        "X.head()"
      ],
      "id": "76aa44ff",
      "execution_count": null,
      "outputs": [
        {
          "output_type": "execute_result",
          "data": {
            "text/html": [
              "<div>\n",
              "<style scoped>\n",
              "    .dataframe tbody tr th:only-of-type {\n",
              "        vertical-align: middle;\n",
              "    }\n",
              "\n",
              "    .dataframe tbody tr th {\n",
              "        vertical-align: top;\n",
              "    }\n",
              "\n",
              "    .dataframe thead th {\n",
              "        text-align: right;\n",
              "    }\n",
              "</style>\n",
              "<table border=\"1\" class=\"dataframe\">\n",
              "  <thead>\n",
              "    <tr style=\"text-align: right;\">\n",
              "      <th></th>\n",
              "      <th>user_id</th>\n",
              "      <th>days</th>\n",
              "      <th>steps_tried</th>\n",
              "      <th>correct</th>\n",
              "      <th>wrong</th>\n",
              "    </tr>\n",
              "  </thead>\n",
              "  <tbody>\n",
              "    <tr>\n",
              "      <th>0</th>\n",
              "      <td>2</td>\n",
              "      <td>1</td>\n",
              "      <td>2</td>\n",
              "      <td>2</td>\n",
              "      <td>0</td>\n",
              "    </tr>\n",
              "    <tr>\n",
              "      <th>1</th>\n",
              "      <td>3</td>\n",
              "      <td>1</td>\n",
              "      <td>4</td>\n",
              "      <td>4</td>\n",
              "      <td>4</td>\n",
              "    </tr>\n",
              "    <tr>\n",
              "      <th>2</th>\n",
              "      <td>8</td>\n",
              "      <td>1</td>\n",
              "      <td>11</td>\n",
              "      <td>9</td>\n",
              "      <td>21</td>\n",
              "    </tr>\n",
              "    <tr>\n",
              "      <th>3</th>\n",
              "      <td>14</td>\n",
              "      <td>1</td>\n",
              "      <td>1</td>\n",
              "      <td>0</td>\n",
              "      <td>1</td>\n",
              "    </tr>\n",
              "    <tr>\n",
              "      <th>4</th>\n",
              "      <td>16</td>\n",
              "      <td>4</td>\n",
              "      <td>24</td>\n",
              "      <td>23</td>\n",
              "      <td>28</td>\n",
              "    </tr>\n",
              "  </tbody>\n",
              "</table>\n",
              "</div>"
            ],
            "text/plain": [
              "   user_id  days  steps_tried  correct  wrong\n",
              "0        2     1            2        2      0\n",
              "1        3     1            4        4      4\n",
              "2        8     1           11        9     21\n",
              "3       14     1            1        0      1\n",
              "4       16     4           24       23     28"
            ]
          },
          "metadata": {},
          "execution_count": 78
        }
      ]
    },
    {
      "cell_type": "code",
      "metadata": {
        "id": "ac3755a7"
      },
      "source": [
        "X['correct_ratio'] = X.correct/(X.correct+X.wrong)"
      ],
      "id": "ac3755a7",
      "execution_count": null,
      "outputs": []
    },
    {
      "cell_type": "code",
      "metadata": {
        "colab": {
          "base_uri": "https://localhost:8080/",
          "height": 206
        },
        "id": "38c88d5a",
        "outputId": "cc3de78a-1c3d-4143-dfb7-0d1d32a1a45d"
      },
      "source": [
        "X.head()"
      ],
      "id": "38c88d5a",
      "execution_count": null,
      "outputs": [
        {
          "output_type": "execute_result",
          "data": {
            "text/html": [
              "<div>\n",
              "<style scoped>\n",
              "    .dataframe tbody tr th:only-of-type {\n",
              "        vertical-align: middle;\n",
              "    }\n",
              "\n",
              "    .dataframe tbody tr th {\n",
              "        vertical-align: top;\n",
              "    }\n",
              "\n",
              "    .dataframe thead th {\n",
              "        text-align: right;\n",
              "    }\n",
              "</style>\n",
              "<table border=\"1\" class=\"dataframe\">\n",
              "  <thead>\n",
              "    <tr style=\"text-align: right;\">\n",
              "      <th></th>\n",
              "      <th>user_id</th>\n",
              "      <th>days</th>\n",
              "      <th>steps_tried</th>\n",
              "      <th>correct</th>\n",
              "      <th>wrong</th>\n",
              "      <th>correct_ratio</th>\n",
              "    </tr>\n",
              "  </thead>\n",
              "  <tbody>\n",
              "    <tr>\n",
              "      <th>0</th>\n",
              "      <td>2</td>\n",
              "      <td>1</td>\n",
              "      <td>2</td>\n",
              "      <td>2</td>\n",
              "      <td>0</td>\n",
              "      <td>1.00000</td>\n",
              "    </tr>\n",
              "    <tr>\n",
              "      <th>1</th>\n",
              "      <td>3</td>\n",
              "      <td>1</td>\n",
              "      <td>4</td>\n",
              "      <td>4</td>\n",
              "      <td>4</td>\n",
              "      <td>0.50000</td>\n",
              "    </tr>\n",
              "    <tr>\n",
              "      <th>2</th>\n",
              "      <td>8</td>\n",
              "      <td>1</td>\n",
              "      <td>11</td>\n",
              "      <td>9</td>\n",
              "      <td>21</td>\n",
              "      <td>0.30000</td>\n",
              "    </tr>\n",
              "    <tr>\n",
              "      <th>3</th>\n",
              "      <td>14</td>\n",
              "      <td>1</td>\n",
              "      <td>1</td>\n",
              "      <td>0</td>\n",
              "      <td>1</td>\n",
              "      <td>0.00000</td>\n",
              "    </tr>\n",
              "    <tr>\n",
              "      <th>4</th>\n",
              "      <td>16</td>\n",
              "      <td>4</td>\n",
              "      <td>24</td>\n",
              "      <td>23</td>\n",
              "      <td>28</td>\n",
              "      <td>0.45098</td>\n",
              "    </tr>\n",
              "  </tbody>\n",
              "</table>\n",
              "</div>"
            ],
            "text/plain": [
              "   user_id  days  steps_tried  correct  wrong  correct_ratio\n",
              "0        2     1            2        2      0        1.00000\n",
              "1        3     1            4        4      4        0.50000\n",
              "2        8     1           11        9     21        0.30000\n",
              "3       14     1            1        0      1        0.00000\n",
              "4       16     4           24       23     28        0.45098"
            ]
          },
          "metadata": {},
          "execution_count": 80
        }
      ]
    },
    {
      "cell_type": "code",
      "metadata": {
        "id": "f0ef67f3"
      },
      "source": [
        "# также добавим сколько за 3 дня пользователь просмотрел степов\n",
        "X = X.merge(events_data_3days.pivot_table(index = 'user_id',\n",
        "                                         columns = 'action',\n",
        "                                         values = 'step_id',\n",
        "                                         aggfunc = 'count',\n",
        "                                         fill_value=0).reset_index()[['user_id','viewed']],\n",
        "           on = 'user_id',how = 'outer')"
      ],
      "id": "f0ef67f3",
      "execution_count": null,
      "outputs": []
    },
    {
      "cell_type": "code",
      "metadata": {
        "id": "2f8675e3"
      },
      "source": [
        "X = X.fillna(0)"
      ],
      "id": "2f8675e3",
      "execution_count": null,
      "outputs": []
    },
    {
      "cell_type": "code",
      "metadata": {
        "colab": {
          "base_uri": "https://localhost:8080/",
          "height": 206
        },
        "id": "99de028d",
        "outputId": "e0420a5c-3c99-4303-d169-8ee5bc9d5dab"
      },
      "source": [
        "X.head()"
      ],
      "id": "99de028d",
      "execution_count": null,
      "outputs": [
        {
          "output_type": "execute_result",
          "data": {
            "text/html": [
              "<div>\n",
              "<style scoped>\n",
              "    .dataframe tbody tr th:only-of-type {\n",
              "        vertical-align: middle;\n",
              "    }\n",
              "\n",
              "    .dataframe tbody tr th {\n",
              "        vertical-align: top;\n",
              "    }\n",
              "\n",
              "    .dataframe thead th {\n",
              "        text-align: right;\n",
              "    }\n",
              "</style>\n",
              "<table border=\"1\" class=\"dataframe\">\n",
              "  <thead>\n",
              "    <tr style=\"text-align: right;\">\n",
              "      <th></th>\n",
              "      <th>user_id</th>\n",
              "      <th>days</th>\n",
              "      <th>steps_tried</th>\n",
              "      <th>correct</th>\n",
              "      <th>wrong</th>\n",
              "      <th>correct_ratio</th>\n",
              "      <th>viewed</th>\n",
              "    </tr>\n",
              "  </thead>\n",
              "  <tbody>\n",
              "    <tr>\n",
              "      <th>0</th>\n",
              "      <td>2</td>\n",
              "      <td>1.0</td>\n",
              "      <td>2.0</td>\n",
              "      <td>2.0</td>\n",
              "      <td>0.0</td>\n",
              "      <td>1.00000</td>\n",
              "      <td>9</td>\n",
              "    </tr>\n",
              "    <tr>\n",
              "      <th>1</th>\n",
              "      <td>3</td>\n",
              "      <td>1.0</td>\n",
              "      <td>4.0</td>\n",
              "      <td>4.0</td>\n",
              "      <td>4.0</td>\n",
              "      <td>0.50000</td>\n",
              "      <td>20</td>\n",
              "    </tr>\n",
              "    <tr>\n",
              "      <th>2</th>\n",
              "      <td>8</td>\n",
              "      <td>1.0</td>\n",
              "      <td>11.0</td>\n",
              "      <td>9.0</td>\n",
              "      <td>21.0</td>\n",
              "      <td>0.30000</td>\n",
              "      <td>154</td>\n",
              "    </tr>\n",
              "    <tr>\n",
              "      <th>3</th>\n",
              "      <td>14</td>\n",
              "      <td>1.0</td>\n",
              "      <td>1.0</td>\n",
              "      <td>0.0</td>\n",
              "      <td>1.0</td>\n",
              "      <td>0.00000</td>\n",
              "      <td>9</td>\n",
              "    </tr>\n",
              "    <tr>\n",
              "      <th>4</th>\n",
              "      <td>16</td>\n",
              "      <td>4.0</td>\n",
              "      <td>24.0</td>\n",
              "      <td>23.0</td>\n",
              "      <td>28.0</td>\n",
              "      <td>0.45098</td>\n",
              "      <td>140</td>\n",
              "    </tr>\n",
              "  </tbody>\n",
              "</table>\n",
              "</div>"
            ],
            "text/plain": [
              "   user_id  days  steps_tried  correct  wrong  correct_ratio  viewed\n",
              "0        2   1.0          2.0      2.0    0.0        1.00000       9\n",
              "1        3   1.0          4.0      4.0    4.0        0.50000      20\n",
              "2        8   1.0         11.0      9.0   21.0        0.30000     154\n",
              "3       14   1.0          1.0      0.0    1.0        0.00000       9\n",
              "4       16   4.0         24.0     23.0   28.0        0.45098     140"
            ]
          },
          "metadata": {},
          "execution_count": 83
        }
      ]
    },
    {
      "cell_type": "code",
      "metadata": {
        "id": "5c10587b"
      },
      "source": [
        "# размечаем выборку, для этого добавляем промежуточные значения\n",
        "X = X.merge(users_data[['user_id','passed_course', 'is_gone_user']],on ='user_id',how='outer')"
      ],
      "id": "5c10587b",
      "execution_count": null,
      "outputs": []
    },
    {
      "cell_type": "code",
      "metadata": {
        "colab": {
          "base_uri": "https://localhost:8080/",
          "height": 206
        },
        "id": "100f3166",
        "outputId": "c4e22380-dd50-43dc-997f-126510cbe657"
      },
      "source": [
        "X.head()"
      ],
      "id": "100f3166",
      "execution_count": null,
      "outputs": [
        {
          "output_type": "execute_result",
          "data": {
            "text/html": [
              "<div>\n",
              "<style scoped>\n",
              "    .dataframe tbody tr th:only-of-type {\n",
              "        vertical-align: middle;\n",
              "    }\n",
              "\n",
              "    .dataframe tbody tr th {\n",
              "        vertical-align: top;\n",
              "    }\n",
              "\n",
              "    .dataframe thead th {\n",
              "        text-align: right;\n",
              "    }\n",
              "</style>\n",
              "<table border=\"1\" class=\"dataframe\">\n",
              "  <thead>\n",
              "    <tr style=\"text-align: right;\">\n",
              "      <th></th>\n",
              "      <th>user_id</th>\n",
              "      <th>days</th>\n",
              "      <th>steps_tried</th>\n",
              "      <th>correct</th>\n",
              "      <th>wrong</th>\n",
              "      <th>correct_ratio</th>\n",
              "      <th>viewed</th>\n",
              "      <th>passed_course</th>\n",
              "      <th>is_gone_user</th>\n",
              "    </tr>\n",
              "  </thead>\n",
              "  <tbody>\n",
              "    <tr>\n",
              "      <th>0</th>\n",
              "      <td>2</td>\n",
              "      <td>1.0</td>\n",
              "      <td>2.0</td>\n",
              "      <td>2.0</td>\n",
              "      <td>0.0</td>\n",
              "      <td>1.00000</td>\n",
              "      <td>9</td>\n",
              "      <td>False</td>\n",
              "      <td>True</td>\n",
              "    </tr>\n",
              "    <tr>\n",
              "      <th>1</th>\n",
              "      <td>3</td>\n",
              "      <td>1.0</td>\n",
              "      <td>4.0</td>\n",
              "      <td>4.0</td>\n",
              "      <td>4.0</td>\n",
              "      <td>0.50000</td>\n",
              "      <td>20</td>\n",
              "      <td>False</td>\n",
              "      <td>True</td>\n",
              "    </tr>\n",
              "    <tr>\n",
              "      <th>2</th>\n",
              "      <td>8</td>\n",
              "      <td>1.0</td>\n",
              "      <td>11.0</td>\n",
              "      <td>9.0</td>\n",
              "      <td>21.0</td>\n",
              "      <td>0.30000</td>\n",
              "      <td>154</td>\n",
              "      <td>False</td>\n",
              "      <td>True</td>\n",
              "    </tr>\n",
              "    <tr>\n",
              "      <th>3</th>\n",
              "      <td>14</td>\n",
              "      <td>1.0</td>\n",
              "      <td>1.0</td>\n",
              "      <td>0.0</td>\n",
              "      <td>1.0</td>\n",
              "      <td>0.00000</td>\n",
              "      <td>9</td>\n",
              "      <td>False</td>\n",
              "      <td>True</td>\n",
              "    </tr>\n",
              "    <tr>\n",
              "      <th>4</th>\n",
              "      <td>16</td>\n",
              "      <td>4.0</td>\n",
              "      <td>24.0</td>\n",
              "      <td>23.0</td>\n",
              "      <td>28.0</td>\n",
              "      <td>0.45098</td>\n",
              "      <td>140</td>\n",
              "      <td>True</td>\n",
              "      <td>True</td>\n",
              "    </tr>\n",
              "  </tbody>\n",
              "</table>\n",
              "</div>"
            ],
            "text/plain": [
              "   user_id  days  steps_tried  ...  viewed  passed_course  is_gone_user\n",
              "0        2   1.0          2.0  ...       9          False          True\n",
              "1        3   1.0          4.0  ...      20          False          True\n",
              "2        8   1.0         11.0  ...     154          False          True\n",
              "3       14   1.0          1.0  ...       9          False          True\n",
              "4       16   4.0         24.0  ...     140           True          True\n",
              "\n",
              "[5 rows x 9 columns]"
            ]
          },
          "metadata": {},
          "execution_count": 85
        }
      ]
    },
    {
      "cell_type": "code",
      "metadata": {
        "colab": {
          "base_uri": "https://localhost:8080/"
        },
        "id": "c1673560",
        "outputId": "a711f4f6-811b-47f5-fe85-171e79aea2a1"
      },
      "source": [
        "# количество совпало с колиством всех пользователей(так проверка)\n",
        "X.shape"
      ],
      "id": "c1673560",
      "execution_count": null,
      "outputs": [
        {
          "output_type": "execute_result",
          "data": {
            "text/plain": [
              "(19234, 9)"
            ]
          },
          "metadata": {},
          "execution_count": 86
        }
      ]
    },
    {
      "cell_type": "code",
      "metadata": {
        "id": "b33be452"
      },
      "source": [
        "# человек  (прошел курс и (бросил или не бросил)) либо (бросил) . т е убираем тех, кто ушел и не прошел курс\n",
        "X = X[~((X.is_gone_user == False) & (X.passed_course == False))]"
      ],
      "id": "b33be452",
      "execution_count": null,
      "outputs": []
    },
    {
      "cell_type": "code",
      "metadata": {
        "colab": {
          "base_uri": "https://localhost:8080/"
        },
        "id": "70819696",
        "outputId": "081ecc04-5cf6-44cb-d20e-3ba46629e3c1"
      },
      "source": [
        "X.shape"
      ],
      "id": "70819696",
      "execution_count": null,
      "outputs": [
        {
          "output_type": "execute_result",
          "data": {
            "text/plain": [
              "(17985, 9)"
            ]
          },
          "metadata": {},
          "execution_count": 88
        }
      ]
    },
    {
      "cell_type": "code",
      "metadata": {
        "colab": {
          "base_uri": "https://localhost:8080/",
          "height": 206
        },
        "id": "521ee018",
        "outputId": "d18ae0a1-cd26-4405-b598-d261231df386"
      },
      "source": [
        "X.head()"
      ],
      "id": "521ee018",
      "execution_count": null,
      "outputs": [
        {
          "output_type": "execute_result",
          "data": {
            "text/html": [
              "<div>\n",
              "<style scoped>\n",
              "    .dataframe tbody tr th:only-of-type {\n",
              "        vertical-align: middle;\n",
              "    }\n",
              "\n",
              "    .dataframe tbody tr th {\n",
              "        vertical-align: top;\n",
              "    }\n",
              "\n",
              "    .dataframe thead th {\n",
              "        text-align: right;\n",
              "    }\n",
              "</style>\n",
              "<table border=\"1\" class=\"dataframe\">\n",
              "  <thead>\n",
              "    <tr style=\"text-align: right;\">\n",
              "      <th></th>\n",
              "      <th>user_id</th>\n",
              "      <th>days</th>\n",
              "      <th>steps_tried</th>\n",
              "      <th>correct</th>\n",
              "      <th>wrong</th>\n",
              "      <th>correct_ratio</th>\n",
              "      <th>viewed</th>\n",
              "      <th>passed_course</th>\n",
              "      <th>is_gone_user</th>\n",
              "    </tr>\n",
              "  </thead>\n",
              "  <tbody>\n",
              "    <tr>\n",
              "      <th>0</th>\n",
              "      <td>2</td>\n",
              "      <td>1.0</td>\n",
              "      <td>2.0</td>\n",
              "      <td>2.0</td>\n",
              "      <td>0.0</td>\n",
              "      <td>1.00000</td>\n",
              "      <td>9</td>\n",
              "      <td>False</td>\n",
              "      <td>True</td>\n",
              "    </tr>\n",
              "    <tr>\n",
              "      <th>1</th>\n",
              "      <td>3</td>\n",
              "      <td>1.0</td>\n",
              "      <td>4.0</td>\n",
              "      <td>4.0</td>\n",
              "      <td>4.0</td>\n",
              "      <td>0.50000</td>\n",
              "      <td>20</td>\n",
              "      <td>False</td>\n",
              "      <td>True</td>\n",
              "    </tr>\n",
              "    <tr>\n",
              "      <th>2</th>\n",
              "      <td>8</td>\n",
              "      <td>1.0</td>\n",
              "      <td>11.0</td>\n",
              "      <td>9.0</td>\n",
              "      <td>21.0</td>\n",
              "      <td>0.30000</td>\n",
              "      <td>154</td>\n",
              "      <td>False</td>\n",
              "      <td>True</td>\n",
              "    </tr>\n",
              "    <tr>\n",
              "      <th>3</th>\n",
              "      <td>14</td>\n",
              "      <td>1.0</td>\n",
              "      <td>1.0</td>\n",
              "      <td>0.0</td>\n",
              "      <td>1.0</td>\n",
              "      <td>0.00000</td>\n",
              "      <td>9</td>\n",
              "      <td>False</td>\n",
              "      <td>True</td>\n",
              "    </tr>\n",
              "    <tr>\n",
              "      <th>4</th>\n",
              "      <td>16</td>\n",
              "      <td>4.0</td>\n",
              "      <td>24.0</td>\n",
              "      <td>23.0</td>\n",
              "      <td>28.0</td>\n",
              "      <td>0.45098</td>\n",
              "      <td>140</td>\n",
              "      <td>True</td>\n",
              "      <td>True</td>\n",
              "    </tr>\n",
              "  </tbody>\n",
              "</table>\n",
              "</div>"
            ],
            "text/plain": [
              "   user_id  days  steps_tried  ...  viewed  passed_course  is_gone_user\n",
              "0        2   1.0          2.0  ...       9          False          True\n",
              "1        3   1.0          4.0  ...      20          False          True\n",
              "2        8   1.0         11.0  ...     154          False          True\n",
              "3       14   1.0          1.0  ...       9          False          True\n",
              "4       16   4.0         24.0  ...     140           True          True\n",
              "\n",
              "[5 rows x 9 columns]"
            ]
          },
          "metadata": {},
          "execution_count": 89
        }
      ]
    },
    {
      "cell_type": "code",
      "metadata": {
        "colab": {
          "base_uri": "https://localhost:8080/"
        },
        "id": "2c87ffea",
        "outputId": "936dd217-fea4-44a3-c804-cb0084f6be0f"
      },
      "source": [
        "X.groupby(['passed_course', 'is_gone_user']).user_id.count()"
      ],
      "id": "2c87ffea",
      "execution_count": null,
      "outputs": [
        {
          "output_type": "execute_result",
          "data": {
            "text/plain": [
              "passed_course  is_gone_user\n",
              "False          True            16560\n",
              "True           False             141\n",
              "               True             1284\n",
              "Name: user_id, dtype: int64"
            ]
          },
          "metadata": {},
          "execution_count": 90
        }
      ]
    },
    {
      "cell_type": "code",
      "metadata": {
        "id": "4a298e6f"
      },
      "source": [
        "# целевой переменной будет passed_course тк у нас все не прошедшие помечены как дропнутые\n",
        "y = X.passed_course.map(int)"
      ],
      "id": "4a298e6f",
      "execution_count": null,
      "outputs": []
    },
    {
      "cell_type": "code",
      "metadata": {
        "id": "9cffd76b"
      },
      "source": [
        "# убираем ненужную для обучения информацию\n",
        "X = X.drop(['passed_course','is_gone_user'],axis = 1)"
      ],
      "id": "9cffd76b",
      "execution_count": null,
      "outputs": []
    },
    {
      "cell_type": "code",
      "metadata": {
        "colab": {
          "base_uri": "https://localhost:8080/",
          "height": 206
        },
        "id": "16a0f1d6",
        "outputId": "d8f6d7c1-0ea8-4a53-b008-bb34569b48f0"
      },
      "source": [
        "X.head()"
      ],
      "id": "16a0f1d6",
      "execution_count": null,
      "outputs": [
        {
          "output_type": "execute_result",
          "data": {
            "text/html": [
              "<div>\n",
              "<style scoped>\n",
              "    .dataframe tbody tr th:only-of-type {\n",
              "        vertical-align: middle;\n",
              "    }\n",
              "\n",
              "    .dataframe tbody tr th {\n",
              "        vertical-align: top;\n",
              "    }\n",
              "\n",
              "    .dataframe thead th {\n",
              "        text-align: right;\n",
              "    }\n",
              "</style>\n",
              "<table border=\"1\" class=\"dataframe\">\n",
              "  <thead>\n",
              "    <tr style=\"text-align: right;\">\n",
              "      <th></th>\n",
              "      <th>user_id</th>\n",
              "      <th>days</th>\n",
              "      <th>steps_tried</th>\n",
              "      <th>correct</th>\n",
              "      <th>wrong</th>\n",
              "      <th>correct_ratio</th>\n",
              "      <th>viewed</th>\n",
              "    </tr>\n",
              "  </thead>\n",
              "  <tbody>\n",
              "    <tr>\n",
              "      <th>0</th>\n",
              "      <td>2</td>\n",
              "      <td>1.0</td>\n",
              "      <td>2.0</td>\n",
              "      <td>2.0</td>\n",
              "      <td>0.0</td>\n",
              "      <td>1.00000</td>\n",
              "      <td>9</td>\n",
              "    </tr>\n",
              "    <tr>\n",
              "      <th>1</th>\n",
              "      <td>3</td>\n",
              "      <td>1.0</td>\n",
              "      <td>4.0</td>\n",
              "      <td>4.0</td>\n",
              "      <td>4.0</td>\n",
              "      <td>0.50000</td>\n",
              "      <td>20</td>\n",
              "    </tr>\n",
              "    <tr>\n",
              "      <th>2</th>\n",
              "      <td>8</td>\n",
              "      <td>1.0</td>\n",
              "      <td>11.0</td>\n",
              "      <td>9.0</td>\n",
              "      <td>21.0</td>\n",
              "      <td>0.30000</td>\n",
              "      <td>154</td>\n",
              "    </tr>\n",
              "    <tr>\n",
              "      <th>3</th>\n",
              "      <td>14</td>\n",
              "      <td>1.0</td>\n",
              "      <td>1.0</td>\n",
              "      <td>0.0</td>\n",
              "      <td>1.0</td>\n",
              "      <td>0.00000</td>\n",
              "      <td>9</td>\n",
              "    </tr>\n",
              "    <tr>\n",
              "      <th>4</th>\n",
              "      <td>16</td>\n",
              "      <td>4.0</td>\n",
              "      <td>24.0</td>\n",
              "      <td>23.0</td>\n",
              "      <td>28.0</td>\n",
              "      <td>0.45098</td>\n",
              "      <td>140</td>\n",
              "    </tr>\n",
              "  </tbody>\n",
              "</table>\n",
              "</div>"
            ],
            "text/plain": [
              "   user_id  days  steps_tried  correct  wrong  correct_ratio  viewed\n",
              "0        2   1.0          2.0      2.0    0.0        1.00000       9\n",
              "1        3   1.0          4.0      4.0    4.0        0.50000      20\n",
              "2        8   1.0         11.0      9.0   21.0        0.30000     154\n",
              "3       14   1.0          1.0      0.0    1.0        0.00000       9\n",
              "4       16   4.0         24.0     23.0   28.0        0.45098     140"
            ]
          },
          "metadata": {},
          "execution_count": 93
        }
      ]
    },
    {
      "cell_type": "code",
      "metadata": {
        "id": "9f89325c"
      },
      "source": [
        "# не удаляем user_id,  для обучения он нам не пригодится, но может пригодится для плюшек если ушел(чтобы кому отправлять)\n",
        "X = X.set_index(X.user_id)\n",
        "X =X.drop('user_id',axis=1)"
      ],
      "id": "9f89325c",
      "execution_count": null,
      "outputs": []
    },
    {
      "cell_type": "code",
      "metadata": {
        "colab": {
          "base_uri": "https://localhost:8080/",
          "height": 238
        },
        "id": "792cb848",
        "outputId": "b87fb03d-a491-4eba-8510-accf5c565daa"
      },
      "source": [
        "X.head()"
      ],
      "id": "792cb848",
      "execution_count": null,
      "outputs": [
        {
          "output_type": "execute_result",
          "data": {
            "text/html": [
              "<div>\n",
              "<style scoped>\n",
              "    .dataframe tbody tr th:only-of-type {\n",
              "        vertical-align: middle;\n",
              "    }\n",
              "\n",
              "    .dataframe tbody tr th {\n",
              "        vertical-align: top;\n",
              "    }\n",
              "\n",
              "    .dataframe thead th {\n",
              "        text-align: right;\n",
              "    }\n",
              "</style>\n",
              "<table border=\"1\" class=\"dataframe\">\n",
              "  <thead>\n",
              "    <tr style=\"text-align: right;\">\n",
              "      <th></th>\n",
              "      <th>days</th>\n",
              "      <th>steps_tried</th>\n",
              "      <th>correct</th>\n",
              "      <th>wrong</th>\n",
              "      <th>correct_ratio</th>\n",
              "      <th>viewed</th>\n",
              "    </tr>\n",
              "    <tr>\n",
              "      <th>user_id</th>\n",
              "      <th></th>\n",
              "      <th></th>\n",
              "      <th></th>\n",
              "      <th></th>\n",
              "      <th></th>\n",
              "      <th></th>\n",
              "    </tr>\n",
              "  </thead>\n",
              "  <tbody>\n",
              "    <tr>\n",
              "      <th>2</th>\n",
              "      <td>1.0</td>\n",
              "      <td>2.0</td>\n",
              "      <td>2.0</td>\n",
              "      <td>0.0</td>\n",
              "      <td>1.00000</td>\n",
              "      <td>9</td>\n",
              "    </tr>\n",
              "    <tr>\n",
              "      <th>3</th>\n",
              "      <td>1.0</td>\n",
              "      <td>4.0</td>\n",
              "      <td>4.0</td>\n",
              "      <td>4.0</td>\n",
              "      <td>0.50000</td>\n",
              "      <td>20</td>\n",
              "    </tr>\n",
              "    <tr>\n",
              "      <th>8</th>\n",
              "      <td>1.0</td>\n",
              "      <td>11.0</td>\n",
              "      <td>9.0</td>\n",
              "      <td>21.0</td>\n",
              "      <td>0.30000</td>\n",
              "      <td>154</td>\n",
              "    </tr>\n",
              "    <tr>\n",
              "      <th>14</th>\n",
              "      <td>1.0</td>\n",
              "      <td>1.0</td>\n",
              "      <td>0.0</td>\n",
              "      <td>1.0</td>\n",
              "      <td>0.00000</td>\n",
              "      <td>9</td>\n",
              "    </tr>\n",
              "    <tr>\n",
              "      <th>16</th>\n",
              "      <td>4.0</td>\n",
              "      <td>24.0</td>\n",
              "      <td>23.0</td>\n",
              "      <td>28.0</td>\n",
              "      <td>0.45098</td>\n",
              "      <td>140</td>\n",
              "    </tr>\n",
              "  </tbody>\n",
              "</table>\n",
              "</div>"
            ],
            "text/plain": [
              "         days  steps_tried  correct  wrong  correct_ratio  viewed\n",
              "user_id                                                          \n",
              "2         1.0          2.0      2.0    0.0        1.00000       9\n",
              "3         1.0          4.0      4.0    4.0        0.50000      20\n",
              "8         1.0         11.0      9.0   21.0        0.30000     154\n",
              "14        1.0          1.0      0.0    1.0        0.00000       9\n",
              "16        4.0         24.0     23.0   28.0        0.45098     140"
            ]
          },
          "metadata": {},
          "execution_count": 95
        }
      ]
    },
    {
      "cell_type": "code",
      "metadata": {
        "colab": {
          "base_uri": "https://localhost:8080/"
        },
        "id": "2750abba",
        "outputId": "e48bb016-3ec5-4d78-b90b-bc5b546849bd"
      },
      "source": [
        "y.head"
      ],
      "id": "2750abba",
      "execution_count": null,
      "outputs": [
        {
          "output_type": "execute_result",
          "data": {
            "text/plain": [
              "<bound method NDFrame.head of 0        0\n",
              "1        0\n",
              "2        0\n",
              "3        0\n",
              "4        1\n",
              "        ..\n",
              "19229    0\n",
              "19230    1\n",
              "19231    0\n",
              "19232    0\n",
              "19233    0\n",
              "Name: passed_course, Length: 17985, dtype: int64>"
            ]
          },
          "metadata": {},
          "execution_count": 96
        }
      ]
    },
    {
      "cell_type": "code",
      "metadata": {
        "id": "a17b1b93"
      },
      "source": [
        "# обучение на данных\n",
        "from sklearn import tree\n",
        "from sklearn.model_selection import train_test_split, GridSearchCV,cross_val_score\n",
        "import matplotlib.pyplot as plt\n",
        "%matplotlib inline"
      ],
      "id": "a17b1b93",
      "execution_count": null,
      "outputs": []
    },
    {
      "cell_type": "code",
      "metadata": {
        "id": "2f3afa9e"
      },
      "source": [
        "X_train,X_test,y_train,y_test = train_test_split(X,y,test_size=0.2,random_state=42)"
      ],
      "id": "2f3afa9e",
      "execution_count": null,
      "outputs": []
    },
    {
      "cell_type": "code",
      "metadata": {
        "colab": {
          "base_uri": "https://localhost:8080/",
          "height": 238
        },
        "id": "8b0eb234",
        "outputId": "3c5c808b-f31c-4b54-bad1-9b4c09360879"
      },
      "source": [
        "X_train.head()"
      ],
      "id": "8b0eb234",
      "execution_count": null,
      "outputs": [
        {
          "output_type": "execute_result",
          "data": {
            "text/html": [
              "<div>\n",
              "<style scoped>\n",
              "    .dataframe tbody tr th:only-of-type {\n",
              "        vertical-align: middle;\n",
              "    }\n",
              "\n",
              "    .dataframe tbody tr th {\n",
              "        vertical-align: top;\n",
              "    }\n",
              "\n",
              "    .dataframe thead th {\n",
              "        text-align: right;\n",
              "    }\n",
              "</style>\n",
              "<table border=\"1\" class=\"dataframe\">\n",
              "  <thead>\n",
              "    <tr style=\"text-align: right;\">\n",
              "      <th></th>\n",
              "      <th>days</th>\n",
              "      <th>steps_tried</th>\n",
              "      <th>correct</th>\n",
              "      <th>wrong</th>\n",
              "      <th>correct_ratio</th>\n",
              "      <th>viewed</th>\n",
              "    </tr>\n",
              "    <tr>\n",
              "      <th>user_id</th>\n",
              "      <th></th>\n",
              "      <th></th>\n",
              "      <th></th>\n",
              "      <th></th>\n",
              "      <th></th>\n",
              "      <th></th>\n",
              "    </tr>\n",
              "  </thead>\n",
              "  <tbody>\n",
              "    <tr>\n",
              "      <th>16181</th>\n",
              "      <td>0.0</td>\n",
              "      <td>0.0</td>\n",
              "      <td>0.0</td>\n",
              "      <td>0.0</td>\n",
              "      <td>0.0</td>\n",
              "      <td>1</td>\n",
              "    </tr>\n",
              "    <tr>\n",
              "      <th>26601</th>\n",
              "      <td>1.0</td>\n",
              "      <td>2.0</td>\n",
              "      <td>2.0</td>\n",
              "      <td>0.0</td>\n",
              "      <td>1.0</td>\n",
              "      <td>20</td>\n",
              "    </tr>\n",
              "    <tr>\n",
              "      <th>529</th>\n",
              "      <td>0.0</td>\n",
              "      <td>0.0</td>\n",
              "      <td>0.0</td>\n",
              "      <td>0.0</td>\n",
              "      <td>0.0</td>\n",
              "      <td>1</td>\n",
              "    </tr>\n",
              "    <tr>\n",
              "      <th>59</th>\n",
              "      <td>0.0</td>\n",
              "      <td>0.0</td>\n",
              "      <td>0.0</td>\n",
              "      <td>0.0</td>\n",
              "      <td>0.0</td>\n",
              "      <td>1</td>\n",
              "    </tr>\n",
              "    <tr>\n",
              "      <th>7574</th>\n",
              "      <td>0.0</td>\n",
              "      <td>0.0</td>\n",
              "      <td>0.0</td>\n",
              "      <td>0.0</td>\n",
              "      <td>0.0</td>\n",
              "      <td>1</td>\n",
              "    </tr>\n",
              "  </tbody>\n",
              "</table>\n",
              "</div>"
            ],
            "text/plain": [
              "         days  steps_tried  correct  wrong  correct_ratio  viewed\n",
              "user_id                                                          \n",
              "16181     0.0          0.0      0.0    0.0            0.0       1\n",
              "26601     1.0          2.0      2.0    0.0            1.0      20\n",
              "529       0.0          0.0      0.0    0.0            0.0       1\n",
              "59        0.0          0.0      0.0    0.0            0.0       1\n",
              "7574      0.0          0.0      0.0    0.0            0.0       1"
            ]
          },
          "metadata": {},
          "execution_count": 99
        }
      ]
    },
    {
      "cell_type": "code",
      "metadata": {
        "colab": {
          "base_uri": "https://localhost:8080/"
        },
        "id": "49d82049",
        "outputId": "a32f63b6-f3d7-45e8-e12b-ae464779b015"
      },
      "source": [
        "y_train.head()"
      ],
      "id": "49d82049",
      "execution_count": null,
      "outputs": [
        {
          "output_type": "execute_result",
          "data": {
            "text/plain": [
              "15201    0\n",
              "8974     0\n",
              "9246     0\n",
              "9065     0\n",
              "11905    0\n",
              "Name: passed_course, dtype: int64"
            ]
          },
          "metadata": {},
          "execution_count": 100
        }
      ]
    },
    {
      "cell_type": "code",
      "metadata": {
        "id": "53ff319a"
      },
      "source": [
        "dt = tree.DecisionTreeClassifier()"
      ],
      "id": "53ff319a",
      "execution_count": null,
      "outputs": []
    },
    {
      "cell_type": "code",
      "metadata": {
        "id": "db8e45da"
      },
      "source": [
        "parameters = {'criterion' : ['gini','entropy'],\n",
        "              'max_depth': range(1,6),\n",
        "              'min_samples_leaf': range(2,5),\n",
        "              'min_samples_split':range(2,5),\n",
        "              'max_leaf_nodes':range(6,15)}"
      ],
      "id": "db8e45da",
      "execution_count": null,
      "outputs": []
    },
    {
      "cell_type": "code",
      "metadata": {
        "id": "69dbe32b"
      },
      "source": [
        "grid_search_cv_clf = GridSearchCV(dt,parameters,cv=5,scoring = 'f1')"
      ],
      "id": "69dbe32b",
      "execution_count": null,
      "outputs": []
    },
    {
      "cell_type": "code",
      "metadata": {
        "colab": {
          "base_uri": "https://localhost:8080/"
        },
        "id": "cd6f2f57",
        "outputId": "80deb78c-b160-43f4-e79d-83ddf4870308"
      },
      "source": [
        "grid_search_cv_clf.fit(X_train,y_train)"
      ],
      "id": "cd6f2f57",
      "execution_count": null,
      "outputs": [
        {
          "output_type": "execute_result",
          "data": {
            "text/plain": [
              "GridSearchCV(cv=5, error_score=nan,\n",
              "             estimator=DecisionTreeClassifier(ccp_alpha=0.0, class_weight=None,\n",
              "                                              criterion='gini', max_depth=None,\n",
              "                                              max_features=None,\n",
              "                                              max_leaf_nodes=None,\n",
              "                                              min_impurity_decrease=0.0,\n",
              "                                              min_impurity_split=None,\n",
              "                                              min_samples_leaf=1,\n",
              "                                              min_samples_split=2,\n",
              "                                              min_weight_fraction_leaf=0.0,\n",
              "                                              presort='deprecated',\n",
              "                                              random_state=None,\n",
              "                                              splitter='best'),\n",
              "             iid='deprecated', n_jobs=None,\n",
              "             param_grid={'criterion': ['gini', 'entropy'],\n",
              "                         'max_depth': range(1, 6),\n",
              "                         'max_leaf_nodes': range(6, 15),\n",
              "                         'min_samples_leaf': range(2, 5),\n",
              "                         'min_samples_split': range(2, 5)},\n",
              "             pre_dispatch='2*n_jobs', refit=True, return_train_score=False,\n",
              "             scoring='f1', verbose=0)"
            ]
          },
          "metadata": {},
          "execution_count": 104
        }
      ]
    },
    {
      "cell_type": "code",
      "metadata": {
        "colab": {
          "base_uri": "https://localhost:8080/"
        },
        "id": "f0e9d68b",
        "outputId": "d406f907-154f-4835-82e2-d7098403f809"
      },
      "source": [
        "grid_search_cv_clf.best_params_"
      ],
      "id": "f0e9d68b",
      "execution_count": null,
      "outputs": [
        {
          "output_type": "execute_result",
          "data": {
            "text/plain": [
              "{'criterion': 'entropy',\n",
              " 'max_depth': 4,\n",
              " 'max_leaf_nodes': 9,\n",
              " 'min_samples_leaf': 2,\n",
              " 'min_samples_split': 2}"
            ]
          },
          "metadata": {},
          "execution_count": 105
        }
      ]
    },
    {
      "cell_type": "code",
      "metadata": {
        "id": "0998aed2"
      },
      "source": [
        "best_dt = grid_search_cv_clf.best_estimator_"
      ],
      "id": "0998aed2",
      "execution_count": null,
      "outputs": []
    },
    {
      "cell_type": "code",
      "metadata": {
        "scrolled": false,
        "colab": {
          "base_uri": "https://localhost:8080/",
          "height": 710
        },
        "id": "c4264c35",
        "outputId": "8fbc1c0d-9d73-4564-b0a9-7c67f1741c74"
      },
      "source": [
        "plt.figure(figsize=(50,25))\n",
        "tree.plot_tree(best_dt,\n",
        "               feature_names=list(X_train),\n",
        "               class_names=['Dropped','Not_Dropped'],\n",
        "               filled=True,\n",
        "               fontsize = 30);\n",
        "plt.show()"
      ],
      "id": "c4264c35",
      "execution_count": null,
      "outputs": [
        {
          "output_type": "display_data",
          "data": {
            "image/png": "[encoded data removed]",
            "text/plain": [
              "<Figure size 3600x1800 with 1 Axes>"
            ]
          },
          "metadata": {
            "needs_background": "light"
          }
        }
      ]
    },
    {
      "cell_type": "code",
      "metadata": {
        "colab": {
          "base_uri": "https://localhost:8080/"
        },
        "id": "f663c96f",
        "outputId": "e4289b84-ce71-4312-e69b-f41c812d3be5"
      },
      "source": [
        "# однако есть дисбаланс классов\n",
        "best_dt.score(X_test,y_test)"
      ],
      "id": "f663c96f",
      "execution_count": null,
      "outputs": [
        {
          "output_type": "execute_result",
          "data": {
            "text/plain": [
              "0.9299416180150125"
            ]
          },
          "metadata": {},
          "execution_count": 108
        }
      ]
    },
    {
      "cell_type": "code",
      "metadata": {
        "id": "33603a66"
      },
      "source": [
        "# подсчет метрик\n",
        "from sklearn.metrics import precision_score , recall_score"
      ],
      "id": "33603a66",
      "execution_count": null,
      "outputs": []
    },
    {
      "cell_type": "code",
      "metadata": {
        "id": "2046df5f"
      },
      "source": [
        "predictions = best_dt.predict(X_test)"
      ],
      "id": "2046df5f",
      "execution_count": null,
      "outputs": []
    },
    {
      "cell_type": "code",
      "metadata": {
        "id": "e56f033f"
      },
      "source": [
        "pr_score = precision_score(y_test,predictions)"
      ],
      "id": "e56f033f",
      "execution_count": null,
      "outputs": []
    },
    {
      "cell_type": "code",
      "metadata": {
        "id": "1a2810b5"
      },
      "source": [
        "rec_score = recall_score(y_test, predictions)"
      ],
      "id": "1a2810b5",
      "execution_count": null,
      "outputs": []
    },
    {
      "cell_type": "code",
      "metadata": {
        "colab": {
          "base_uri": "https://localhost:8080/"
        },
        "id": "05feaafb",
        "outputId": "922bdd24-9bde-4ff1-bd5b-3f42b8605957"
      },
      "source": [
        "pr_score"
      ],
      "id": "05feaafb",
      "execution_count": null,
      "outputs": [
        {
          "output_type": "execute_result",
          "data": {
            "text/plain": [
              "0.6329113924050633"
            ]
          },
          "metadata": {},
          "execution_count": 113
        }
      ]
    },
    {
      "cell_type": "code",
      "metadata": {
        "colab": {
          "base_uri": "https://localhost:8080/"
        },
        "id": "31897a37",
        "outputId": "70d6a494-b01a-4944-961d-5708bcd6fa90"
      },
      "source": [
        "rec_score"
      ],
      "id": "31897a37",
      "execution_count": null,
      "outputs": [
        {
          "output_type": "execute_result",
          "data": {
            "text/plain": [
              "0.18315018315018314"
            ]
          },
          "metadata": {},
          "execution_count": 114
        }
      ]
    },
    {
      "cell_type": "code",
      "metadata": {
        "id": "8eaa1429"
      },
      "source": [
        "F = pr_score*rec_score/(pr_score+rec_score)"
      ],
      "id": "8eaa1429",
      "execution_count": null,
      "outputs": []
    },
    {
      "cell_type": "code",
      "metadata": {
        "colab": {
          "base_uri": "https://localhost:8080/"
        },
        "id": "3b225e70",
        "outputId": "45b7889b-76f4-416c-ffe4-f50c83b81b22"
      },
      "source": [
        "F"
      ],
      "id": "3b225e70",
      "execution_count": null,
      "outputs": [
        {
          "output_type": "execute_result",
          "data": {
            "text/plain": [
              "0.14204545454545453"
            ]
          },
          "metadata": {},
          "execution_count": 116
        }
      ]
    },
    {
      "cell_type": "code",
      "metadata": {
        "id": "1eee2016"
      },
      "source": [
        "# узнаем вероятности соотнесения к некоторым классам\n",
        "y_predicted_prob = best_dt.predict_proba(X_test)"
      ],
      "id": "1eee2016",
      "execution_count": null,
      "outputs": []
    },
    {
      "cell_type": "code",
      "metadata": {
        "colab": {
          "base_uri": "https://localhost:8080/"
        },
        "id": "22169872",
        "outputId": "f11f9fff-b55c-45e8-b05f-72086bad684c"
      },
      "source": [
        "y_predicted_prob"
      ],
      "id": "22169872",
      "execution_count": null,
      "outputs": [
        {
          "output_type": "execute_result",
          "data": {
            "text/plain": [
              "array([[0.9413017 , 0.0586983 ],\n",
              "       [0.98056537, 0.01943463],\n",
              "       [0.6036036 , 0.3963964 ],\n",
              "       ...,\n",
              "       [0.9413017 , 0.0586983 ],\n",
              "       [0.9911007 , 0.0088993 ],\n",
              "       [0.9413017 , 0.0586983 ]])"
            ]
          },
          "metadata": {},
          "execution_count": 118
        }
      ]
    },
    {
      "cell_type": "code",
      "metadata": {
        "colab": {
          "base_uri": "https://localhost:8080/",
          "height": 282
        },
        "id": "647cfbea",
        "outputId": "e6ba11fe-2fb3-4721-ad92-741f5f37c4b1"
      },
      "source": [
        "pd.Series(y_predicted_prob[:,1]).hist()"
      ],
      "id": "647cfbea",
      "execution_count": null,
      "outputs": [
        {
          "output_type": "execute_result",
          "data": {
            "text/plain": [
              "<matplotlib.axes._subplots.AxesSubplot at 0x7f878349d950>"
            ]
          },
          "metadata": {},
          "execution_count": 119
        },
        {
          "output_type": "display_data",
          "data": {
            "image/png": "[encoded data removed]",
            "text/plain": [
              "<Figure size 432x288 with 1 Axes>"
            ]
          },
          "metadata": {
            "needs_background": "light"
          }
        }
      ]
    },
    {
      "cell_type": "code",
      "metadata": {
        "id": "1f1537e5"
      },
      "source": [
        "# максимизация recall ( в класс дропнувшихся отправлять тех, у кого вероятность >0.2)\n",
        "import numpy as np"
      ],
      "id": "1f1537e5",
      "execution_count": null,
      "outputs": []
    },
    {
      "cell_type": "code",
      "metadata": {
        "colab": {
          "base_uri": "https://localhost:8080/"
        },
        "id": "41182df6",
        "outputId": "78c8d2d9-9333-4e2c-edd1-411f2e5c4eaf"
      },
      "source": [
        "pd.Series(y_predicted_prob[:,1]).unique()"
      ],
      "id": "41182df6",
      "execution_count": null,
      "outputs": [
        {
          "output_type": "execute_result",
          "data": {
            "text/plain": [
              "array([0.0586983 , 0.01943463, 0.3963964 , 0.07391304, 0.0088993 ,\n",
              "       0.1738149 , 0.26774595, 0.59487179, 0.88636364])"
            ]
          },
          "metadata": {},
          "execution_count": 121
        }
      ]
    },
    {
      "cell_type": "code",
      "metadata": {
        "id": "af9cf813"
      },
      "source": [
        "y_pred = np.where(y_predicted_prob[:,1] > 0.25 , 1 ,0)"
      ],
      "id": "af9cf813",
      "execution_count": null,
      "outputs": []
    },
    {
      "cell_type": "code",
      "metadata": {
        "colab": {
          "base_uri": "https://localhost:8080/"
        },
        "id": "45a88c92",
        "outputId": "627fcad5-f4dd-4e83-e523-63f44bba8859"
      },
      "source": [
        "pr_score = precision_score(y_test,y_pred)\n",
        "pr_score"
      ],
      "id": "45a88c92",
      "execution_count": null,
      "outputs": [
        {
          "output_type": "execute_result",
          "data": {
            "text/plain": [
              "0.3819444444444444"
            ]
          },
          "metadata": {},
          "execution_count": 123
        }
      ]
    },
    {
      "cell_type": "code",
      "metadata": {
        "colab": {
          "base_uri": "https://localhost:8080/"
        },
        "id": "a4946d04",
        "outputId": "79173fb7-ca85-4b2a-b3fd-6540ccab57ca"
      },
      "source": [
        "rec_score = recall_score(y_test,y_pred)\n",
        "rec_score"
      ],
      "id": "a4946d04",
      "execution_count": null,
      "outputs": [
        {
          "output_type": "execute_result",
          "data": {
            "text/plain": [
              "0.6043956043956044"
            ]
          },
          "metadata": {},
          "execution_count": 124
        }
      ]
    },
    {
      "cell_type": "code",
      "metadata": {
        "colab": {
          "base_uri": "https://localhost:8080/"
        },
        "id": "45b5b8cc",
        "outputId": "4351f3c1-9a96-49bf-94fc-65efd5e45e71"
      },
      "source": [
        "F = (pr_score*rec_score)/(pr_score+rec_score)\n",
        "F"
      ],
      "id": "45b5b8cc",
      "execution_count": null,
      "outputs": [
        {
          "output_type": "execute_result",
          "data": {
            "text/plain": [
              "0.23404255319148934"
            ]
          },
          "metadata": {},
          "execution_count": 125
        }
      ]
    },
    {
      "cell_type": "code",
      "metadata": {
        "id": "61e4eba8"
      },
      "source": [
        "# нахождение баланса между precision и recall"
      ],
      "id": "61e4eba8",
      "execution_count": null,
      "outputs": []
    },
    {
      "cell_type": "code",
      "metadata": {
        "colab": {
          "base_uri": "https://localhost:8080/",
          "height": 295
        },
        "id": "e94553df",
        "outputId": "459542fa-b766-4e83-c015-8bc4e04af7e9"
      },
      "source": [
        "# true positive rate(recall) - какой процент пользователей которые дропнулись\n",
        "# мы действительно классифицировали как дропнулся\n",
        "#\n",
        "# false positive rate -\n",
        "# для какого процента людей не дропнувшихся мы ошиблись\n",
        "# ( т. е не дропнулся на самом деле)\n",
        "from sklearn.metrics import roc_curve, auc\n",
        "fpr, tpr, thresholds = roc_curve(y_test, y_predicted_prob[:,1])\n",
        "roc_auc= auc(fpr, tpr)\n",
        "plt.figure()\n",
        "lw=2\n",
        "plt.plot(fpr, tpr, color='darkorange',\n",
        "         lw=lw, label='ROC curve (area = %0.2f)' % roc_auc)\n",
        "plt.plot([0, 1], [0, 1], color='navy', lw=lw, linestyle='--')\n",
        "plt.xlim([0.0, 1.0])\n",
        "plt.ylim([0.0, 1.05])\n",
        "plt.xlabel('False Positive Rate')\n",
        "plt.ylabel('True Positive Rate')\n",
        "plt.title('Receiver operating characteristic example')\n",
        "plt.legend(loc=\"lower right\")\n",
        "plt.show()"
      ],
      "id": "e94553df",
      "execution_count": null,
      "outputs": [
        {
          "output_type": "display_data",
          "data": {
            "image/png": "[encoded data removed]",
            "text/plain": [
              "<Figure size 432x288 with 1 Axes>"
            ]
          },
          "metadata": {
            "needs_background": "light"
          }
        }
      ]
    },
    {
      "cell_type": "code",
      "metadata": {
        "id": "fb31acd4"
      },
      "source": [
        "# linearRegression\n",
        "from sklearn.linear_model import LogisticRegressionCV"
      ],
      "id": "fb31acd4",
      "execution_count": null,
      "outputs": []
    },
    {
      "cell_type": "code",
      "metadata": {
        "id": "112c06a4"
      },
      "source": [
        "clf = LogisticRegressionCV(cv=5, random_state = 10).fit(X_train,y_train)"
      ],
      "id": "112c06a4",
      "execution_count": null,
      "outputs": []
    },
    {
      "cell_type": "code",
      "metadata": {
        "colab": {
          "base_uri": "https://localhost:8080/"
        },
        "id": "899aa6a4",
        "outputId": "d930c6fa-2554-42a0-e613-99aa378307bf"
      },
      "source": [
        "# дисбаланс классов\n",
        "clf.score(X_test,y_test)"
      ],
      "id": "899aa6a4",
      "execution_count": null,
      "outputs": [
        {
          "output_type": "execute_result",
          "data": {
            "text/plain": [
              "0.9299416180150125"
            ]
          },
          "metadata": {},
          "execution_count": 130
        }
      ]
    },
    {
      "cell_type": "code",
      "metadata": {
        "id": "658bc458"
      },
      "source": [
        "y_pred = clf.predict(X_test)"
      ],
      "id": "658bc458",
      "execution_count": null,
      "outputs": []
    },
    {
      "cell_type": "code",
      "metadata": {
        "colab": {
          "base_uri": "https://localhost:8080/"
        },
        "id": "5bdc7bd6",
        "outputId": "82739c5c-0a0a-4d3d-81e6-162d0a2cc485"
      },
      "source": [
        "pr_score = precision_score(y_test,y_pred)\n",
        "pr_score"
      ],
      "id": "5bdc7bd6",
      "execution_count": null,
      "outputs": [
        {
          "output_type": "execute_result",
          "data": {
            "text/plain": [
              "0.6"
            ]
          },
          "metadata": {},
          "execution_count": 132
        }
      ]
    },
    {
      "cell_type": "code",
      "metadata": {
        "colab": {
          "base_uri": "https://localhost:8080/"
        },
        "id": "4bcb8bd3",
        "outputId": "3f0d3b3a-53c7-4815-ec90-813b8088debd"
      },
      "source": [
        "rec_score = recall_score(y_test,y_pred)\n",
        "rec_score"
      ],
      "id": "4bcb8bd3",
      "execution_count": null,
      "outputs": [
        {
          "output_type": "execute_result",
          "data": {
            "text/plain": [
              "0.23076923076923078"
            ]
          },
          "metadata": {},
          "execution_count": 133
        }
      ]
    },
    {
      "cell_type": "code",
      "metadata": {
        "colab": {
          "base_uri": "https://localhost:8080/"
        },
        "id": "67ed8f8e",
        "outputId": "014b7e87-ea2d-481a-e8eb-62b1626d99c8"
      },
      "source": [
        "F = (pr_score*rec_score) / (rec_score+pr_score)\n",
        "F"
      ],
      "id": "67ed8f8e",
      "execution_count": null,
      "outputs": [
        {
          "output_type": "execute_result",
          "data": {
            "text/plain": [
              "0.16666666666666669"
            ]
          },
          "metadata": {},
          "execution_count": 134
        }
      ]
    },
    {
      "cell_type": "code",
      "metadata": {
        "id": "17c1324b"
      },
      "source": [],
      "id": "17c1324b",
      "execution_count": null,
      "outputs": []
    },
    {
      "cell_type": "code",
      "metadata": {
        "id": "9329d4b8"
      },
      "source": [],
      "id": "9329d4b8",
      "execution_count": null,
      "outputs": []
    },
    {
      "cell_type": "code",
      "metadata": {
        "id": "e99b2baf"
      },
      "source": [],
      "id": "e99b2baf",
      "execution_count": null,
      "outputs": []
    },
    {
      "cell_type": "code",
      "metadata": {
        "id": "29e75b4e"
      },
      "source": [],
      "id": "29e75b4e",
      "execution_count": null,
      "outputs": []
    },
    {
      "cell_type": "code",
      "metadata": {
        "id": "9967966b"
      },
      "source": [],
      "id": "9967966b",
      "execution_count": null,
      "outputs": []
    },
    {
      "cell_type": "code",
      "metadata": {
        "id": "1a04133b"
      },
      "source": [],
      "id": "1a04133b",
      "execution_count": null,
      "outputs": []
    },
    {
      "cell_type": "code",
      "metadata": {
        "id": "f9db59d4"
      },
      "source": [],
      "id": "f9db59d4",
      "execution_count": null,
      "outputs": []
    },
    {
      "cell_type": "code",
      "metadata": {
        "id": "182c5f58"
      },
      "source": [],
      "id": "182c5f58",
      "execution_count": null,
      "outputs": []
    },
    {
      "cell_type": "code",
      "metadata": {
        "id": "7df55a49"
      },
      "source": [],
      "id": "7df55a49",
      "execution_count": null,
      "outputs": []
    }
  ]
}